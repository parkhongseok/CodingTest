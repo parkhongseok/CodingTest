{
 "cells": [
  {
   "cell_type": "markdown",
   "metadata": {},
   "source": [
    "<pre>\n",
    "<h1>부르트포스</h1>\n",
    "문제\n",
    "카지노에서 제일 인기 있는 게임 블랙잭의 규칙은 상당히 쉽다. 카드의 합이 21을 넘지 않는 한도 내에서, 카드의 합을 최대한 크게 만드는 게임이다. 블랙잭은 카지노마다 다양한 규정이 있다.\n",
    "\n",
    "한국 최고의 블랙잭 고수 김정인은 새로운 블랙잭 규칙을 만들어 상근, 창영이와 게임하려고 한다.\n",
    "\n",
    "김정인 버전의 블랙잭에서 각 카드에는 양의 정수가 쓰여 있다. 그 다음, 딜러는 N장의 카드를 모두 숫자가 보이도록 바닥에 놓는다. 그런 후에 딜러는 숫자 M을 크게 외친다.\n",
    "\n",
    "이제 플레이어는 제한된 시간 안에 N장의 카드 중에서 3장의 카드를 골라야 한다. 블랙잭 변형 게임이기 때문에, 플레이어가 고른 카드의 합은 M을 넘지 않으면서 M과 최대한 가깝게 만들어야 한다.\n",
    "\n",
    "N장의 카드에 써져 있는 숫자가 주어졌을 때, M을 넘지 않으면서 M에 최대한 가까운 카드 3장의 합을 구해 출력하시오.\n",
    "\n",
    "입력\n",
    "첫째 줄에 카드의 개수 N(3 ≤ N ≤ 100)과 M(10 ≤ M ≤ 300,000)이 주어진다. 둘째 줄에는 카드에 쓰여 있는 수가 주어지며, 이 값은 100,000을 넘지 않는 양의 정수이다.\n",
    "\n",
    "합이 M을 넘지 않는 카드 3장을 찾을 수 있는 경우만 입력으로 주어진다.\n",
    "\n",
    "출력\n",
    "첫째 줄에 M을 넘지 않으면서 M에 최대한 가까운 카드 3장의 합을 출력한다.\n",
    "\n",
    "예제 입력 1 \n",
    "5 21\n",
    "5 6 7 8 9\n",
    "예제 출력 1 \n",
    "21\n",
    "예제 입력 2 \n",
    "10 500\n",
    "93 181 245 214 315 36 185 138 216 295\n",
    "예제 출력 2 \n",
    "497\n",
    "</pre>"
   ]
  },
  {
   "cell_type": "code",
   "execution_count": 8,
   "metadata": {},
   "outputs": [
    {
     "name": "stdout",
     "output_type": "stream",
     "text": [
      "21\n"
     ]
    }
   ],
   "source": [
    "N, M = map(int, input().split())\n",
    "L = [*map(int, input().split())]\n",
    "sum = 0\n",
    "for i in range(N-2):    \n",
    "    for j in range(i+1,N-1):\n",
    "        for k in range(j+1, N):\n",
    "            S = L[i]+L[j]+L[k]\n",
    "            if S <= M and sum <= S:\n",
    "                sum = S\n",
    "print(sum)"
   ]
  },
  {
   "cell_type": "markdown",
   "metadata": {},
   "source": [
    "<pre>\n",
    "문제\n",
    "어떤 자연수 N이 있을 때, 그 자연수 N의 분해합은 N과 N을 이루는 각 자리수의 합을 의미한다. 어떤 자연수 M의 분해합이 N인 경우, M을 N의 생성자라 한다. 예를 들어, 245의 분해합은 256(=245+2+4+5)이 된다. 따라서 245는 256의 생성자가 된다. 물론, 어떤 자연수의 경우에는 생성자가 없을 수도 있다. 반대로, 생성자가 여러 개인 자연수도 있을 수 있다.\n",
    "\n",
    "자연수 N이 주어졌을 때, N의 가장 작은 생성자를 구해내는 프로그램을 작성하시오.\n",
    "\n",
    "입력\n",
    "첫째 줄에 자연수 N(1 ≤ N ≤ 1,000,000)이 주어진다.\n",
    "\n",
    "출력\n",
    "첫째 줄에 답을 출력한다. 생성자가 없는 경우에는 0을 출력한다.\n",
    "\n",
    "예제 입력 1 \n",
    "216\n",
    "예제 출력 1 \n",
    "198\n",
    "</pre>"
   ]
  },
  {
   "cell_type": "code",
   "execution_count": 72,
   "metadata": {},
   "outputs": [
    {
     "name": "stdout",
     "output_type": "stream",
     "text": [
      "86\n"
     ]
    }
   ],
   "source": [
    "import math\n",
    "N = int(input())\n",
    "# N의 자리수\n",
    "k = int(math.log(N)/math.log(10))+1\n",
    "\n",
    "answer = 0\n",
    "for i in range(k*9, 0, -1):\n",
    "    G = N-i\n",
    "    sumG = sum((G%10**(k-j))//(10**(k-j-1)) for j in range(k))\n",
    "    if G>0 and G + sumG == N:\n",
    "        answer = G\n",
    "        break\n",
    "\n",
    "print(answer)\n"
   ]
  },
  {
   "cell_type": "code",
   "execution_count": null,
   "metadata": {},
   "outputs": [
    {
     "name": "stdout",
     "output_type": "stream",
     "text": [
      "86\n"
     ]
    }
   ],
   "source": [
    "import math\n",
    "N = int(input())\n",
    "# N의 자리수\n",
    "k = int(math.log(N)/math.log(10))+1\n",
    "\n",
    "answer = 0\n",
    "for i in range(k*9, 0, -1):\n",
    "    G = N-i\n",
    "    sumG = sum((G%10**(k-j))//(10**(k-j-1)) for j in range(k))\n",
    "    if G>0 and G + sumG == N:\n",
    "        answer = G\n",
    "        break\n",
    "\n",
    "print(answer)\n"
   ]
  },
  {
   "cell_type": "markdown",
   "metadata": {},
   "source": [
    "<pre>\n",
    "문제\n",
    "수현이는 4차 산업혁명 시대에 살고 있는 중학생이다. 코로나 19로 인해, 수현이는 버추얼 학교로 버추얼 출석해 버추얼 강의를 듣고 있다. 수현이의 버추얼 선생님은 문자가 2개인 연립방정식을 해결하는 방법에 대해 강의하고, 다음과 같은 문제를 숙제로 냈다.\n",
    "\n",
    "다음 연립방정식에서 \n",
    "$x$와 \n",
    "$y$의 값을 계산하시오.\n",
    " \n",
    "\\[\\begin{cases}ax+by=c\\\\dx+ey=f\\end{cases}\\] \n",
    "4차 산업혁명 시대에 숙제나 하고 앉아있는 것보다 버추얼 친구들을 만나러 가는 게 더 가치있는 일이라고 생각했던 수현이는 이런 연립방정식을 풀 시간이 없었다. 다행히도, 버추얼 강의의 숙제 제출은 인터넷 창의 빈 칸에 수들을 입력하는 식이다. 각 칸에는 \n",
    "$-999$ 이상 \n",
    "$999$ 이하의 정수만 입력할 수 있다. 수현이가 버추얼 친구들을 만나러 버추얼 세계로 떠날 수 있게 도와주자.\n",
    "\n",
    "입력\n",
    "정수 \n",
    "$a$, \n",
    "$b$, \n",
    "$c$, \n",
    "$d$, \n",
    "$e$, \n",
    "$f$가 공백으로 구분되어 차례대로 주어진다. (\n",
    "$-999 \\leq a,b,c,d,e,f \\leq 999$)\n",
    "\n",
    "문제에서 언급한 방정식을 만족하는 \n",
    "$\\left(x,y\\right)$가 유일하게 존재하고, 이 때 \n",
    "$x$와 \n",
    "$y$가 각각 \n",
    "$-999$ 이상 \n",
    "$999$ 이하의 정수인 경우만 입력으로 주어짐이 보장된다.\n",
    "\n",
    "출력\n",
    "문제의 답인 \n",
    "$x$와 \n",
    "$y$를 공백으로 구분해 출력한다.\n",
    "\n",
    "예제 입력 1 \n",
    "1 3 -1 4 1 7\n",
    "예제 출력 1 \n",
    "2 -1\n",
    "예제 입력 2 \n",
    "2 5 8 3 -4 -11\n",
    "예제 출력 2 \n",
    "-1 2\n",
    "</pre>"
   ]
  },
  {
   "cell_type": "code",
   "execution_count": 86,
   "metadata": {},
   "outputs": [
    {
     "name": "stdout",
     "output_type": "stream",
     "text": [
      "2 -1\n"
     ]
    }
   ],
   "source": [
    "a, b, c, d, e, f = map(int, input().split())\n",
    "print((e*c-b*f)//(X:=a*e-b*d), (-d*c+a*f)//X)"
   ]
  },
  {
   "cell_type": "markdown",
   "metadata": {},
   "source": [
    "<pre>\n",
    "문제\n",
    "지민이는 자신의 저택에서 MN개의 단위 정사각형으로 나누어져 있는 M×N 크기의 보드를 찾았다. 어떤 정사각형은 검은색으로 칠해져 있고, 나머지는 흰색으로 칠해져 있다. 지민이는 이 보드를 잘라서 8×8 크기의 체스판으로 만들려고 한다.\n",
    "\n",
    "체스판은 검은색과 흰색이 번갈아서 칠해져 있어야 한다. 구체적으로, 각 칸이 검은색과 흰색 중 하나로 색칠되어 있고, 변을 공유하는 두 개의 사각형은 다른 색으로 칠해져 있어야 한다. 따라서 이 정의를 따르면 체스판을 색칠하는 경우는 두 가지뿐이다. 하나는 맨 왼쪽 위 칸이 흰색인 경우, 하나는 검은색인 경우이다.\n",
    "\n",
    "보드가 체스판처럼 칠해져 있다는 보장이 없어서, 지민이는 8×8 크기의 체스판으로 잘라낸 후에 몇 개의 정사각형을 다시 칠해야겠다고 생각했다. 당연히 8*8 크기는 아무데서나 골라도 된다. 지민이가 다시 칠해야 하는 정사각형의 최소 개수를 구하는 프로그램을 작성하시오.\n",
    "\n",
    "입력\n",
    "첫째 줄에 N과 M이 주어진다. N과 M은 8보다 크거나 같고, 50보다 작거나 같은 자연수이다. 둘째 줄부터 N개의 줄에는 보드의 각 행의 상태가 주어진다. B는 검은색이며, W는 흰색이다.\n",
    "\n",
    "출력\n",
    "첫째 줄에 지민이가 다시 칠해야 하는 정사각형 개수의 최솟값을 출력한다.\n",
    "\n",
    "예제 입력 1 \n",
    "8 8\n",
    "WBWBWBWB\n",
    "BWBWBWBW\n",
    "WBWBWBWB\n",
    "BWBBBWBW\n",
    "WBWBWBWB\n",
    "BWBWBWBW\n",
    "WBWBWBWB\n",
    "BWBWBWBW\n",
    "예제 출력 1 \n",
    "1\n",
    "예제 입력 2 \n",
    "10 13\n",
    "BBBBBBBBWBWBW\n",
    "BBBBBBBBBWBWB\n",
    "BBBBBBBBWBWBW\n",
    "BBBBBBBBBWBWB\n",
    "BBBBBBBBWBWBW\n",
    "BBBBBBBBBWBWB\n",
    "BBBBBBBBWBWBW\n",
    "BBBBBBBBBWBWB\n",
    "WWWWWWWWWWBWB\n",
    "WWWWWWWWWWBWB\n",
    "예제 출력 2 \n",
    "12\n",
    "예제 입력 3 \n",
    "8 8\n",
    "BWBWBWBW\n",
    "WBWBWBWB\n",
    "BWBWBWBW\n",
    "WBWBWBWB\n",
    "BWBWBWBW\n",
    "WBWBWBWB\n",
    "BWBWBWBW\n",
    "WBWBWBWB\n",
    "예제 출력 3 \n",
    "0\n",
    "예제 입력 4 \n",
    "9 23\n",
    "BBBBBBBBBBBBBBBBBBBBBBB\n",
    "BBBBBBBBBBBBBBBBBBBBBBB\n",
    "BBBBBBBBBBBBBBBBBBBBBBB\n",
    "BBBBBBBBBBBBBBBBBBBBBBB\n",
    "BBBBBBBBBBBBBBBBBBBBBBB\n",
    "BBBBBBBBBBBBBBBBBBBBBBB\n",
    "BBBBBBBBBBBBBBBBBBBBBBB\n",
    "BBBBBBBBBBBBBBBBBBBBBBB\n",
    "BBBBBBBBBBBBBBBBBBBBBBW\n",
    "예제 출력 4 \n",
    "31\n",
    "예제 입력 5 \n",
    "10 10\n",
    "BBBBBBBBBB\n",
    "BBWBWBWBWB\n",
    "BWBWBWBWBB\n",
    "BBWBWBWBWB\n",
    "BWBWBWBWBB\n",
    "BBWBWBWBWB\n",
    "BWBWBWBWBB\n",
    "BBWBWBWBWB\n",
    "BWBWBWBWBB\n",
    "BBBBBBBBBB\n",
    "예제 출력 5 \n",
    "0\n",
    "예제 입력 6 \n",
    "8 8\n",
    "WBWBWBWB\n",
    "BWBWBWBW\n",
    "WBWBWBWB\n",
    "BWBBBWBW\n",
    "WBWBWBWB\n",
    "BWBWBWBW\n",
    "WBWBWWWB\n",
    "BWBWBWBW\n",
    "예제 출력 6 \n",
    "2\n",
    "\n",
    "예제 입력 7 \n",
    "11 12\n",
    "BWWBWWBWWBWW\n",
    "BWWBWBBWWBWW\n",
    "WBWWBWBBWWBW\n",
    "BWWBWBBWWBWW\n",
    "WBWWBWBBWWBW\n",
    "BWWBWBBWWBWW\n",
    "WBWWBWBBWWBW\n",
    "BWWBWBWWWBWW\n",
    "WBWWBWBBWWBW\n",
    "BWWBWBBWWBWW\n",
    "WBWWBWBBWWBW\n",
    "예제 출력 7 \n",
    "15\n",
    "</pre>"
   ]
  },
  {
   "cell_type": "markdown",
   "metadata": {},
   "source": [
    "\n",
    "\n",
    "\n",
    "\n",
    "\n",
    "\n",
    "\n"
   ]
  },
  {
   "cell_type": "code",
   "execution_count": 34,
   "metadata": {},
   "outputs": [
    {
     "name": "stdout",
     "output_type": "stream",
     "text": [
      "[1, 0, 1, 0, 1, 0, 1, 0]\n",
      "[0, 1, 0, 1, 0, 1, 0, 1]\n",
      "[1, 0, 1, 0, 1, 0, 1, 0]\n",
      "[0, 1, 0, 0, 0, 1, 0, 1]\n",
      "[1, 0, 1, 0, 1, 0, 1, 0]\n",
      "[0, 1, 0, 1, 0, 1, 0, 1]\n",
      "[1, 0, 1, 0, 1, 0, 1, 0]\n",
      "[0, 1, 0, 1, 0, 1, 0, 1]\n",
      "1\n"
     ]
    }
   ],
   "source": [
    "N, M = map(int, input().split())\n",
    "\n",
    "L=[]\n",
    "for i in range(N):\n",
    "    L.append(list(map(lambda x: int(x=='W'), input())))\n",
    "\n",
    "answer = 64\n",
    "for i in range(N-8+1):\n",
    "    for j in range(M-8+1):\n",
    "        odd = 0\n",
    "        for i1 in range(8):\n",
    "            for j1 in range(8):\n",
    "                    odd += L[i+i1][j+j1]^(k:=int((i1+j1)%2))\n",
    "        answer = min(answer, odd, 64-odd)\n",
    "print(answer)"
   ]
  },
  {
   "cell_type": "code",
   "execution_count": 117,
   "metadata": {},
   "outputs": [
    {
     "name": "stdout",
     "output_type": "stream",
     "text": [
      "[1, 0, 1, 1, 0, 1, 0, 0, 1, 1, 0, 1]\n",
      "[0, 1, 1, 0, 1, 0, 0, 1, 1, 0, 1, 1]\n"
     ]
    }
   ],
   "source": [
    "# 입력 부분\n",
    "N, M = map(int, input().split())\n",
    "\n",
    "L=[]\n",
    "for i in range(N):\n",
    "    L.append(list(map(lambda x: int(x=='W'), input())))\n",
    "    print(L[i])"
   ]
  },
  {
   "cell_type": "code",
   "execution_count": 134,
   "metadata": {},
   "outputs": [
    {
     "name": "stdout",
     "output_type": "stream",
     "text": [
      "[0, 1, 0, 1, 0, 1, 0, 1]\n",
      "[1, 0, 1, 0, 1, 0, 1, 0]\n",
      "[0, 1, 0, 1, 0, 1, 0, 1]\n",
      "[1, 0, 1, 0, 1, 0, 1, 0]\n",
      "[0, 1, 0, 1, 0, 1, 0, 1]\n",
      "[1, 0, 1, 0, 1, 0, 1, 0]\n",
      "[0, 1, 0, 1, 0, 1, 0, 1]\n",
      "[1, 0, 1, 0, 1, 0, 1, 0]\n"
     ]
    }
   ],
   "source": [
    "# 불필요\n",
    "chess = [[0]*8 for _ in range(8)]\n",
    "answer1, answer2= 0, 0\n",
    "\n",
    "for i in range(8):\n",
    "    for j in range(8):\n",
    "        chess[i][j] = int((i+j)%2)\n",
    "for l in chess:\n",
    "    print(l)"
   ]
  },
  {
   "cell_type": "code",
   "execution_count": 33,
   "metadata": {},
   "outputs": [
    {
     "name": "stdout",
     "output_type": "stream",
     "text": [
      "[1, 0, 1, 0, 1, 0, 1, 0]\n",
      "[0, 1, 0, 1, 0, 1, 0, 1]\n",
      "[1, 0, 1, 0, 1, 0, 1, 0]\n",
      "[0, 1, 0, 0, 0, 1, 0, 1]\n",
      "[1, 0, 1, 0, 1, 0, 1, 0]\n",
      "[0, 1, 0, 1, 0, 1, 0, 1]\n",
      "[1, 0, 1, 0, 1, 0, 1, 0]\n",
      "[0, 1, 0, 1, 0, 1, 0, 1]\n",
      "1\n"
     ]
    }
   ],
   "source": [
    "N, M = 8, 8\n",
    "str = \"\"\"WBWBWBWB\n",
    "BWBWBWBW\n",
    "WBWBWBWB\n",
    "BWBBBWBW\n",
    "WBWBWBWB\n",
    "BWBWBWBW\n",
    "WBWBWBWB\n",
    "BWBWBWBW\"\"\"\n",
    "\n",
    "L = [*map(lambda row: [int(x=='W') for x in row], str.split('\\n'))]\n",
    "for l in L:\n",
    "    print(l)"
   ]
  },
  {
   "cell_type": "code",
   "execution_count": 31,
   "metadata": {},
   "outputs": [
    {
     "name": "stdout",
     "output_type": "stream",
     "text": [
      "0\n"
     ]
    }
   ],
   "source": [
    "# 처리\n",
    "answer = 64\n",
    "for i in range(N-8+1):\n",
    "    for j in range(M-8+1):\n",
    "        odd = 0\n",
    "        for i1 in range(8):\n",
    "            for j1 in range(8):\n",
    "                    odd += L[i+i1][j+j1]^(k:=int((i1+j1)%2))\n",
    "        answer = min(answer, odd, 64-odd)\n",
    "print(answer)"
   ]
  },
  {
   "cell_type": "markdown",
   "metadata": {},
   "source": [
    "<pre>\n",
    "문제\n",
    "666은 종말을 나타내는 수라고 한다. 따라서, 많은 블록버스터 영화에서는 666이 들어간 제목을 많이 사용한다. 영화감독 숌은 세상의 종말 이라는 시리즈 영화의 감독이다. 조지 루카스는 스타워즈를 만들 때, 스타워즈 1, 스타워즈 2, 스타워즈 3, 스타워즈 4, 스타워즈 5, 스타워즈 6과 같이 이름을 지었고, 피터 잭슨은 반지의 제왕을 만들 때, 반지의 제왕 1, 반지의 제왕 2, 반지의 제왕 3과 같이 영화 제목을 지었다. 하지만 숌은 자신이 조지 루카스와 피터 잭슨을 뛰어넘는다는 것을 보여주기 위해서 영화 제목을 좀 다르게 만들기로 했다.\n",
    "\n",
    "종말의 수란 어떤 수에 6이 적어도 3개 이상 연속으로 들어가는 수를 말한다. 제일 작은 종말의 수는 666이고, 그 다음으로 큰 수는 1666, 2666, 3666, .... 이다. 따라서, 숌은 첫 번째 영화의 제목은 \"세상의 종말 666\", 두 번째 영화의 제목은 \"세상의 종말 1666\"와 같이 이름을 지을 것이다. 일반화해서 생각하면, N번째 영화의 제목은 세상의 종말 (N번째로 작은 종말의 수) 와 같다.\n",
    "\n",
    "숌이 만든 N번째 영화의 제목에 들어간 수를 출력하는 프로그램을 작성하시오. 숌은 이 시리즈를 항상 차례대로 만들고, 다른 영화는 만들지 않는다.\n",
    "\n",
    "입력\n",
    "첫째 줄에 N이 주어진다. N은 10,000보다 작거나 같은 자연수이다.\n",
    "\n",
    "출력\n",
    "첫째 줄에 N번째 영화의 제목에 들어간 수를 출력한다.\n",
    "\n",
    "예제 입력 1 \n",
    "2\n",
    "예제 출력 1 \n",
    "1666\n",
    "예제 입력 2 \n",
    "3\n",
    "예제 출력 2 \n",
    "2666\n",
    "예제 입력 3 \n",
    "6\n",
    "예제 출력 3 \n",
    "5666\n",
    "예제 입력 4 \n",
    "187\n",
    "예제 출력 4 \n",
    "66666\n",
    "예제 입력 5 \n",
    "500\n",
    "예제 출력 5 \n",
    "166699\n",
    "</pre>"
   ]
  },
  {
   "cell_type": "code",
   "execution_count": 70,
   "metadata": {},
   "outputs": [
    {
     "name": "stdout",
     "output_type": "stream",
     "text": [
      "66666\n"
     ]
    }
   ],
   "source": [
    "N = int(input())\n",
    "X = 666\n",
    "n = 1\n",
    "while n < N:\n",
    "    X += 1\n",
    "    strX = str(X)\n",
    "    x1, x2 = strX[0], strX[1]\n",
    "    for i in range(2, len(strX)):\n",
    "        # running tech\n",
    "        x3 = strX[i]\n",
    "        if x1 == '6' and x2 == '6' and x3=='6':\n",
    "            n += 1\n",
    "            break\n",
    "        x1, x2 = x2, x3\n",
    "print(X)"
   ]
  },
  {
   "cell_type": "markdown",
   "metadata": {},
   "source": [
    "<pre>\n",
    "문제\n",
    "상근이는 요즘 설탕공장에서 설탕을 배달하고 있다. 상근이는 지금 사탕가게에 설탕을 정확하게 N킬로그램을 배달해야 한다. 설탕공장에서 만드는 설탕은 봉지에 담겨져 있다. 봉지는 3킬로그램 봉지와 5킬로그램 봉지가 있다.\n",
    "\n",
    "상근이는 귀찮기 때문에, 최대한 적은 봉지를 들고 가려고 한다. 예를 들어, 18킬로그램 설탕을 배달해야 할 때, 3킬로그램 봉지 6개를 가져가도 되지만, 5킬로그램 3개와 3킬로그램 1개를 배달하면, 더 적은 개수의 봉지를 배달할 수 있다.\n",
    "\n",
    "상근이가 설탕을 정확하게 N킬로그램 배달해야 할 때, 봉지 몇 개를 가져가면 되는지 그 수를 구하는 프로그램을 작성하시오.\n",
    "\n",
    "입력\n",
    "첫째 줄에 N이 주어진다. (3 ≤ N ≤ 5000)\n",
    "\n",
    "출력\n",
    "상근이가 배달하는 봉지의 최소 개수를 출력한다. 만약, 정확하게 N킬로그램을 만들 수 없다면 -1을 출력한다.\n",
    "\n",
    "예제 입력 1 \n",
    "18\n",
    "예제 출력 1 \n",
    "4\n",
    "예제 입력 2 \n",
    "4\n",
    "예제 출력 2 \n",
    "-1\n",
    "예제 입력 3 \n",
    "6\n",
    "예제 출력 3 \n",
    "2\n",
    "예제 입력 4 \n",
    "9\n",
    "예제 출력 4 \n",
    "3\n",
    "예제 입력 5 \n",
    "11\n",
    "예제 출력 5 \n",
    "3\n",
    "</pre>"
   ]
  },
  {
   "cell_type": "code",
   "execution_count": 87,
   "metadata": {},
   "outputs": [
    {
     "name": "stdout",
     "output_type": "stream",
     "text": [
      "-1\n"
     ]
    }
   ],
   "source": [
    "N = int(input())\n",
    "answer = N\n",
    "for i in range(N//5+1):\n",
    "    for j in range(N//3+1):\n",
    "        if 5*i+3*j == N:\n",
    "            answer = min(answer, i+j)\n",
    "print(-1) if answer==N else print(answer)"
   ]
  },
  {
   "cell_type": "markdown",
   "metadata": {},
   "source": [
    "<pre>\n",
    "문제\n",
    "N개의 수가 주어졌을 때, 이를 오름차순으로 정렬하는 프로그램을 작성하시오.\n",
    "\n",
    "입력\n",
    "첫째 줄에 수의 개수 N(1 ≤ N ≤ 1,000)이 주어진다. 둘째 줄부터 N개의 줄에는 수가 주어진다. 이 수는 절댓값이 1,000보다 작거나 같은 정수이다. 수는 중복되지 않는다.\n",
    "\n",
    "출력\n",
    "첫째 줄부터 N개의 줄에 오름차순으로 정렬한 결과를 한 줄에 하나씩 출력한다.\n",
    "\n",
    "예제 입력 1 \n",
    "5\n",
    "5\n",
    "2\n",
    "3\n",
    "4\n",
    "1\n",
    "\n",
    "예제 출력 1 \n",
    "1\n",
    "2\n",
    "3\n",
    "4\n",
    "5\n",
    "</pre>"
   ]
  },
  {
   "cell_type": "code",
   "execution_count": 16,
   "metadata": {},
   "outputs": [
    {
     "name": "stdout",
     "output_type": "stream",
     "text": [
      "1\n",
      "2\n",
      "3\n"
     ]
    }
   ],
   "source": [
    "list.sort(L:=[int(input()) for _ in range(int(input()))])\n",
    "print(*L, sep='\\n')"
   ]
  },
  {
   "cell_type": "markdown",
   "metadata": {},
   "source": [
    "<pre>\n",
    "문제\n",
    "어떤 수들이 있을 때, 그 수들을 대표하는 값으로 가장 흔하게 쓰이는 것은 평균이다. \n",
    "평균은 주어진 모든 수의 합을 수의 개수로 나눈 것이다. \n",
    "예를 들어 10, 40, 30, 60, 30의 평균은 (10 + 40 + 30 + 60 + 30) / 5 = 170 / 5 = 34가 된다.\n",
    "\n",
    "평균 이외의 또 다른 대표값으로 중앙값이라는 것이 있다. \n",
    "중앙값은 주어진 수를 크기 순서대로 늘어 놓았을 때 가장 중앙에 놓인 값이다. \n",
    "예를 들어 10, 40, 30, 60, 30의 경우, 크기 순서대로 늘어 놓으면\n",
    "\n",
    "10 30 30 40 60\n",
    "\n",
    "이 되고 따라서 중앙값은 30이 된다.\n",
    "\n",
    "다섯 개의 자연수가 주어질 때 이들의 평균과 중앙값을 구하는 프로그램을 작성하시오.\n",
    "\n",
    "입력\n",
    "첫째 줄부터 다섯 번째 줄까지 한 줄에 하나씩 자연수가 주어진다. 주어지는 자연수는 100 보다 작은 10의 배수이다.\n",
    "\n",
    "출력\n",
    "첫째 줄에는 평균을 출력하고, 둘째 줄에는 중앙값을 출력한다. 평균과 중앙값은 모두 자연수이다.\n",
    "\n",
    "예제 입력 1 \n",
    "10\n",
    "40\n",
    "30\n",
    "60\n",
    "30\n",
    "\n",
    "예제 출력 1 \n",
    "34\n",
    "30\n",
    "</pre>"
   ]
  },
  {
   "cell_type": "code",
   "execution_count": 18,
   "metadata": {},
   "outputs": [
    {
     "name": "stdout",
     "output_type": "stream",
     "text": [
      "34\n",
      "30\n"
     ]
    }
   ],
   "source": [
    "list.sort(L:=[int(input()) for _ in range(5)])\n",
    "print(sum(L)//5, L[2], sep='\\n')"
   ]
  },
  {
   "cell_type": "markdown",
   "metadata": {},
   "source": [
    "<pre>\n",
    "문제\n",
    "2022 연세대학교 미래캠퍼스 슬기로운 코딩생활에 \n",
    "N명의 학생들이 응시했다.\n",
    "\n",
    "이들 중 점수가 가장 높은 \n",
    "k명은 상을 받을 것이다. 이 때, 상을 받는 커트라인이 몇 점인지 구하라.\n",
    "\n",
    "커트라인이란 상을 받는 사람들 중 점수가 가장 가장 낮은 사람의 점수를 말한다.\n",
    "\n",
    "입력\n",
    "첫째 줄: N k\n",
    "응시자의 수 N과 상을 받는 사람의 수 k가 공백을 사이에 두고 주어진다.\n",
    "\n",
    "둘째 줄에는 각 학생의 점수 x가 공백을 사이에 두고 주어진다.\n",
    "\n",
    "출력\n",
    "상을 받는 커트라인을 출력하라.\n",
    "\n",
    "제한\n",
    "1 ≤ N ≤ 1,000\n",
    "1 ≤ k ≤ N\n",
    "0 ≤ x ≤ 10,000\n",
    "\n",
    "예제 입력 1 \n",
    "5 2\n",
    "100 76 85 93 98\n",
    "\n",
    "예제 출력 1 \n",
    "98\n",
    "시험 응시자들 가운데 1등은 100점, 2등은 98점, 3등은 93점이다. 2등까지 상을 받으므로 커트라인은 98점이다.\n",
    "</pre>"
   ]
  },
  {
   "cell_type": "code",
   "execution_count": 23,
   "metadata": {},
   "outputs": [
    {
     "name": "stdout",
     "output_type": "stream",
     "text": [
      "98\n"
     ]
    }
   ],
   "source": [
    "N, k = map(int, input().split())\n",
    "list.sort(L:=[*map(int, input().split())], reverse=True)\n",
    "print(L[k-1])"
   ]
  },
  {
   "cell_type": "markdown",
   "metadata": {},
   "source": [
    "<pre>\n",
    "문제\n",
    "N개의 수가 주어졌을 때, 이를 오름차순으로 정렬하는 프로그램을 작성하시오.\n",
    "\n",
    "입력\n",
    "첫째 줄에 수의 개수 N(1 ≤ N ≤ 1,000,000)이 주어진다. 둘째 줄부터 N개의 줄에는 수가 주어진다. 이 수는 절댓값이 1,000,000보다 작거나 같은 정수이다. 수는 중복되지 않는다.\n",
    "\n",
    "출력\n",
    "첫째 줄부터 N개의 줄에 오름차순으로 정렬한 결과를 한 줄에 하나씩 출력한다.\n",
    "\n",
    "예제 입력 1 \n",
    "5\n",
    "5\n",
    "4\n",
    "3\n",
    "2\n",
    "1\n",
    "\n",
    "예제 출력 1 \n",
    "1\n",
    "2\n",
    "3\n",
    "4\n",
    "5\n",
    "</pre>"
   ]
  },
  {
   "cell_type": "code",
   "execution_count": 27,
   "metadata": {},
   "outputs": [
    {
     "ename": "KeyboardInterrupt",
     "evalue": "",
     "output_type": "error",
     "traceback": [
      "\u001b[0;31m---------------------------------------------------------------------------\u001b[0m",
      "\u001b[0;31mKeyboardInterrupt\u001b[0m                         Traceback (most recent call last)",
      "Cell \u001b[0;32mIn[27], line 2\u001b[0m\n\u001b[1;32m      1\u001b[0m \u001b[38;5;28;01mimport\u001b[39;00m \u001b[38;5;21;01msys\u001b[39;00m\n\u001b[0;32m----> 2\u001b[0m N \u001b[38;5;241m=\u001b[39m \u001b[38;5;28mint\u001b[39m(\u001b[43msys\u001b[49m\u001b[38;5;241;43m.\u001b[39;49m\u001b[43mstdin\u001b[49m\u001b[38;5;241;43m.\u001b[39;49m\u001b[43mreadline\u001b[49m\u001b[43m(\u001b[49m\u001b[43m)\u001b[49m)\n\u001b[1;32m      3\u001b[0m \u001b[38;5;28mlist\u001b[39m\u001b[38;5;241m.\u001b[39msort(L\u001b[38;5;241m:=\u001b[39m[\u001b[38;5;28mint\u001b[39m(\u001b[38;5;28minput\u001b[39m()) \u001b[38;5;28;01mfor\u001b[39;00m _ \u001b[38;5;129;01min\u001b[39;00m \u001b[38;5;28mrange\u001b[39m(N)])\n\u001b[1;32m      4\u001b[0m \u001b[38;5;28mprint\u001b[39m(\u001b[38;5;241m*\u001b[39mL, sep\u001b[38;5;241m=\u001b[39m\u001b[38;5;124m'\u001b[39m\u001b[38;5;130;01m\\n\u001b[39;00m\u001b[38;5;124m'\u001b[39m)\n",
      "\u001b[0;31mKeyboardInterrupt\u001b[0m: "
     ]
    }
   ],
   "source": [
    "import sys\n",
    "N = int(sys.stdin.readline())\n",
    "list.sort(L:=[int(sys.stdin.readline()) for _ in range(N)])\n",
    "print(*L, sep='\\n')"
   ]
  },
  {
   "cell_type": "markdown",
   "metadata": {},
   "source": [
    "<pre>\n",
    "문제\n",
    "N개의 수가 주어졌을 때, 이를 오름차순으로 정렬하는 프로그램을 작성하시오.\n",
    "\n",
    "입력\n",
    "첫째 줄에 수의 개수 N(1 ≤ N ≤ 10,000,000)이 주어진다. 둘째 줄부터 N개의 줄에는 수가 주어진다. 이 수는 10,000보다 작거나 같은 자연수이다.\n",
    "\n",
    "출력\n",
    "첫째 줄부터 N개의 줄에 오름차순으로 정렬한 결과를 한 줄에 하나씩 출력한다.\n",
    "\n",
    "예제 입력 1 \n",
    "10\n",
    "5\n",
    "2\n",
    "3\n",
    "1\n",
    "4\n",
    "2\n",
    "3\n",
    "5\n",
    "1\n",
    "7\n",
    "\n",
    "예제 출력 1 \n",
    "1\n",
    "1\n",
    "2\n",
    "2\n",
    "3\n",
    "3\n",
    "4\n",
    "5\n",
    "5\n",
    "7\n",
    "</pre>"
   ]
  },
  {
   "cell_type": "code",
   "execution_count": 40,
   "metadata": {},
   "outputs": [
    {
     "name": "stdout",
     "output_type": "stream",
     "text": [
      "2\n",
      "2\n",
      "2\n",
      "3\n",
      "4\n",
      "5\n",
      "5\n",
      "5\n",
      "6\n",
      "7\n"
     ]
    }
   ],
   "source": [
    "import sys\n",
    "\n",
    "N = int(sys.stdin.readline())\n",
    "\n",
    "maxNum = 10000\n",
    "\n",
    "L = [False]*maxNum\n",
    "for _ in range(N):\n",
    "    n = int(sys.stdin.readline())\n",
    "    L[n-1]+=1\n",
    "\n",
    "for i in range(maxNum):\n",
    "    if L[i]:\n",
    "        for _ in range(L[i]):\n",
    "            print(i+1)"
   ]
  },
  {
   "cell_type": "code",
   "execution_count": null,
   "metadata": {},
   "outputs": [],
   "source": [
    "import sys\n",
    "N = int(sys.stdin.readline())\n",
    "list.sort(L:=[int(sys.stdin.readline()) for _ in range(N)])\n",
    "print(*L, sep='\\n')"
   ]
  },
  {
   "cell_type": "markdown",
   "metadata": {},
   "source": [
    "<pre>\n",
    "문제\n",
    "배열을 정렬하는 것은 쉽다. 수가 주어지면, 그 수의 각 자리수를 내림차순으로 정렬해보자.\n",
    "\n",
    "입력\n",
    "첫째 줄에 정렬하려고 하는 수 N이 주어진다. N은 1,000,000,000보다 작거나 같은 자연수이다.\n",
    "\n",
    "출력\n",
    "첫째 줄에 자리수를 내림차순으로 정렬한 수를 출력한다.\n",
    "\n",
    "\n",
    "예제 입력 1 \n",
    "2143\n",
    "예제 출력 1 \n",
    "4321\n",
    "\n",
    "예제 입력 2 \n",
    "999998999\n",
    "예제 출력 2 \n",
    "999999998\n",
    "\n",
    "예제 입력 3 \n",
    "61423\n",
    "예제 출력 3 \n",
    "64321\n",
    "\n",
    "예제 입력 4 \n",
    "500613009\n",
    "예제 출력 4 \n",
    "965310000\n",
    "</pre>"
   ]
  },
  {
   "cell_type": "code",
   "execution_count": 51,
   "metadata": {},
   "outputs": [
    {
     "name": "stdout",
     "output_type": "stream",
     "text": [
      "['9', '6', '5', '3', '1', '0', '0', '0', '0']\n"
     ]
    }
   ],
   "source": [
    "list.sort(L:=list(input()), reverse=True, )\n",
    "print(*L, sep='')"
   ]
  },
  {
   "cell_type": "markdown",
   "metadata": {},
   "source": [
    "<pre>\n",
    "<h1> 교훈 : 입력, 처리, 출력을 나누어 시간 복잡도를 줄일 수 있다 </h1>\n",
    "문제\n",
    "2차원 평면 위의 점 N개가 주어진다. 좌표를 x좌표가 증가하는 순으로, x좌표가 같으면 y좌표가 증가하는 순서로 정렬한 다음 출력하는 프로그램을 작성하시오.\n",
    "\n",
    "입력\n",
    "첫째 줄에 점의 개수 N (1 ≤ N ≤ 100,000)이 주어진다. \n",
    "둘째 줄부터 N개의 줄에는 i번점의 위치 xi와 yi가 주어진다. (-100,000 ≤ xi, yi ≤ 100,000) 좌표는 항상 정수이고, 위치가 같은 두 점은 없다.\n",
    "\n",
    "출력\n",
    "첫째 줄부터 N개의 줄에 점을 정렬한 결과를 출력한다.\n",
    "\n",
    "예제 입력 1 \n",
    "5\n",
    "3 4\n",
    "1 1\n",
    "1 -1\n",
    "2 2\n",
    "3 3\n",
    "\n",
    "예제 출력 1 \n",
    "1 -1\n",
    "1 1\n",
    "2 2\n",
    "3 3\n",
    "3 4\n",
    "</pre>"
   ]
  },
  {
   "cell_type": "code",
   "execution_count": null,
   "metadata": {},
   "outputs": [],
   "source": [
    "# 기존 실패한 코드 : 시간초과 \n",
    "maxNum = 100000\n",
    "lenL = maxNum*2+1\n",
    "L=[[] for i in range(lenL)]\n",
    "for i in range(int(input())):\n",
    "    x, y = map(int, input().split())\n",
    "    X = L[x+maxNum]\n",
    "    X .append(y)\n",
    "    list.sort(X) # 불필요하게 매번 정렬이 발생해서, n * nlogn \n",
    "    \n",
    "# 출력 시 빈 리스트까지 읽어야 하기에 강제로 n^2 만큼 발생 \n",
    "for i in range(lenL):\n",
    "    if L[i]:\n",
    "        for j in L[i]:\n",
    "            print(i-maxNum, j) "
   ]
  },
  {
   "cell_type": "code",
   "execution_count": 160,
   "metadata": {},
   "outputs": [
    {
     "ename": "KeyboardInterrupt",
     "evalue": "",
     "output_type": "error",
     "traceback": [
      "\u001b[0;31m---------------------------------------------------------------------------\u001b[0m",
      "\u001b[0;31mKeyboardInterrupt\u001b[0m                         Traceback (most recent call last)",
      "Cell \u001b[0;32mIn[160], line 6\u001b[0m\n\u001b[1;32m      4\u001b[0m lenL \u001b[38;5;241m=\u001b[39m maxNum\u001b[38;5;241m*\u001b[39m\u001b[38;5;241m2\u001b[39m\u001b[38;5;241m+\u001b[39m\u001b[38;5;241m1\u001b[39m\n\u001b[1;32m      5\u001b[0m L\u001b[38;5;241m=\u001b[39m[[] \u001b[38;5;28;01mfor\u001b[39;00m i \u001b[38;5;129;01min\u001b[39;00m \u001b[38;5;28mrange\u001b[39m(lenL)]\n\u001b[0;32m----> 6\u001b[0m \u001b[38;5;28;01mfor\u001b[39;00m i \u001b[38;5;129;01min\u001b[39;00m \u001b[38;5;28mrange\u001b[39m(\u001b[38;5;28mint\u001b[39m(\u001b[43msys\u001b[49m\u001b[38;5;241;43m.\u001b[39;49m\u001b[43mstdin\u001b[49m\u001b[38;5;241;43m.\u001b[39;49m\u001b[43mreadline\u001b[49m\u001b[43m(\u001b[49m\u001b[43m)\u001b[49m)):\n\u001b[1;32m      7\u001b[0m     x, y \u001b[38;5;241m=\u001b[39m \u001b[38;5;28mmap\u001b[39m(\u001b[38;5;28mint\u001b[39m, sys\u001b[38;5;241m.\u001b[39mstdin\u001b[38;5;241m.\u001b[39mreadline()\u001b[38;5;241m.\u001b[39msplit())\n\u001b[1;32m      8\u001b[0m     L[x\u001b[38;5;241m+\u001b[39mmaxNum] \u001b[38;5;241m.\u001b[39mappend(y)\n",
      "\u001b[0;31mKeyboardInterrupt\u001b[0m: "
     ]
    }
   ],
   "source": [
    "# 성공\n",
    "import sys\n",
    "\n",
    "maxNum = 100000\n",
    "lenL = maxNum*2+1\n",
    "L=[[] for i in range(lenL)]\n",
    "for i in range(int(sys.stdin.readline())):\n",
    "    x, y = map(int, sys.stdin.readline().split())\n",
    "    L[x+maxNum] .append(y)\n",
    "\n",
    "result = []\n",
    "for i, yList in enumerate(L):\n",
    "    if yList:\n",
    "        yList.sort()\n",
    "        for y in yList:\n",
    "            result.append((i-maxNum, y))\n",
    "\n",
    "print('\\n'.join(f\"{x} {y}\" for x, y in result) + '\\n')"
   ]
  },
  {
   "cell_type": "code",
   "execution_count": 128,
   "metadata": {},
   "outputs": [],
   "source": [
    "# dict를 이용한 시도 : 실패 (시간초과)\n",
    "\n",
    "a = {}\n",
    "for i in range(int(input())):\n",
    "    x, y = map(int, input().split())\n",
    "    try:\n",
    "        a[x].append(y)\n",
    "        list.sort(a[x])\n",
    "    except:\n",
    "        a[x]=(value:=[])\n",
    "        value.append(y)\n",
    "b = dict(sorted(a.items()))\n",
    "for i in b:\n",
    "    for j in b[i]:\n",
    "        print(i, j)"
   ]
  },
  {
   "cell_type": "markdown",
   "metadata": {},
   "source": [
    "<pre>\n",
    "문제\n",
    "2차원 평면 위의 점 N개가 주어진다. 좌표를 y좌표가 증가하는 순으로, y좌표가 같으면 x좌표가 증가하는 순서로 정렬한 다음 출력하는 프로그램을 작성하시오.\n",
    "\n",
    "입력\n",
    "첫째 줄에 점의 개수 N (1 ≤ N ≤ 100,000)이 주어진다. 둘째 줄부터 N개의 줄에는 i번점의 위치 xi와 yi가 주어진다. (-100,000 ≤ xi, yi ≤ 100,000) 좌표는 항상 정수이고, 위치가 같은 두 점은 없다.\n",
    "\n",
    "출력\n",
    "첫째 줄부터 N개의 줄에 점을 정렬한 결과를 출력한다.\n",
    "\n",
    "예제 입력 1 \n",
    "5\n",
    "0 4\n",
    "1 2\n",
    "1 -1\n",
    "2 2\n",
    "3 3\n",
    "\n",
    "예제 출력 1 \n",
    "1 -1\n",
    "1 2\n",
    "2 2\n",
    "3 3\n",
    "0 4\n",
    "</pre>"
   ]
  },
  {
   "cell_type": "code",
   "execution_count": 162,
   "metadata": {},
   "outputs": [
    {
     "name": "stdout",
     "output_type": "stream",
     "text": [
      "10 20\n",
      "5 15\n",
      "10 10\n",
      "\n"
     ]
    }
   ],
   "source": [
    "L = [\"10 20\\n\", \"5 15\\n\", \"10 10\\n\"]\n",
    "print(\"\".join(L))"
   ]
  },
  {
   "cell_type": "code",
   "execution_count": 173,
   "metadata": {},
   "outputs": [],
   "source": [
    "import sys\n",
    "from io import StringIO\n",
    "\n",
    "# 가상 입력 데이터\n",
    "mock_input = \"\"\"5\n",
    "0 4\n",
    "1 2\n",
    "1 -1\n",
    "2 2\n",
    "3 3\n",
    "\"\"\"\n",
    "\n",
    "# 표준 입력을 StringIO로 대체\n",
    "sys.stdin = StringIO(mock_input)\n",
    "\n"
   ]
  },
  {
   "cell_type": "code",
   "execution_count": null,
   "metadata": {},
   "outputs": [],
   "source": []
  },
  {
   "cell_type": "code",
   "execution_count": 174,
   "metadata": {},
   "outputs": [
    {
     "name": "stdout",
     "output_type": "stream",
     "text": [
      "1 -1\n",
      "1 2\n",
      "2 2\n",
      "3 3\n",
      "0 4\n",
      "\n"
     ]
    }
   ],
   "source": [
    "import sys\n",
    "def sortYX(XandY):\n",
    "    x, y = XandY.split()\n",
    "    return int(x)/1e6 + int(y)\n",
    "    \n",
    "L = sorted(sys.stdin.readlines()[1:], key=sortYX)\n",
    "print(\"\".join(L))"
   ]
  },
  {
   "cell_type": "markdown",
   "metadata": {},
   "source": [
    "<pre>\n",
    "문제\n",
    "알파벳 소문자로 이루어진 N개의 단어가 들어오면 아래와 같은 조건에 따라 정렬하는 프로그램을 작성하시오.\n",
    "\n",
    "길이가 짧은 것부터\n",
    "길이가 같으면 사전 순으로\n",
    "단, 중복된 단어는 하나만 남기고 제거해야 한다.\n",
    "\n",
    "입력\n",
    "첫째 줄에 단어의 개수 N이 주어진다. (1 ≤ N ≤ 20,000) 둘째 줄부터 N개의 줄에 걸쳐 알파벳 소문자로 이루어진 단어가 한 줄에 하나씩 주어진다. 주어지는 문자열의 길이는 50을 넘지 않는다.\n",
    "\n",
    "출력\n",
    "조건에 따라 정렬하여 단어들을 출력한다.\n",
    "\n",
    "예제 입력 1 \n",
    "13\n",
    "but\n",
    "i\n",
    "wont\n",
    "hesitate\n",
    "no\n",
    "more\n",
    "no\n",
    "more\n",
    "it\n",
    "cannot\n",
    "wait\n",
    "im\n",
    "yours\n",
    "\n",
    "예제 출력 1 \n",
    "i\n",
    "im\n",
    "it\n",
    "no\n",
    "but\n",
    "more\n",
    "wait\n",
    "wont\n",
    "yours\n",
    "cannot\n",
    "hesitate\n",
    "</pre>"
   ]
  },
  {
   "cell_type": "code",
   "execution_count": 188,
   "metadata": {},
   "outputs": [],
   "source": [
    "import sys\n",
    "from io import StringIO\n",
    "\n",
    "# 가상 입력 데이터\n",
    "mock_input = \"\"\"13\n",
    "but\n",
    "i\n",
    "wont\n",
    "hesitate\n",
    "no\n",
    "more\n",
    "no\n",
    "more\n",
    "it\n",
    "cannot\n",
    "wait\n",
    "im\n",
    "yours\n",
    "\"\"\"\n",
    "\n",
    "sys.stdin = StringIO(mock_input)"
   ]
  },
  {
   "cell_type": "code",
   "execution_count": 198,
   "metadata": {},
   "outputs": [
    {
     "name": "stdout",
     "output_type": "stream",
     "text": [
      "i\n",
      "im\n",
      "it\n",
      "no\n",
      "but\n",
      "more\n",
      "wait\n",
      "wont\n",
      "yours\n",
      "cannot\n",
      "hesitate\n",
      "\n"
     ]
    }
   ],
   "source": [
    "import sys\n",
    "\n",
    "inputSet = {*sys.stdin.readlines()[1:]}\n",
    "inputList = sorted(inputSet, key=lambda x : (len(x), x))\n",
    "\n",
    "print(''.join(inputList))"
   ]
  },
  {
   "cell_type": "markdown",
   "metadata": {},
   "source": [
    "<pre>\n",
    "문제\n",
    "온라인 저지에 가입한 사람들의 나이와 이름이 가입한 순서대로 주어진다. 이때, 회원들을 나이가 증가하는 순으로, 나이가 같으면 먼저 가입한 사람이 앞에 오는 순서로 정렬하는 프로그램을 작성하시오.\n",
    "\n",
    "입력\n",
    "첫째 줄에 온라인 저지 회원의 수 N이 주어진다. (1 ≤ N ≤ 100,000)\n",
    "\n",
    "둘째 줄부터 N개의 줄에는 각 회원의 나이와 이름이 공백으로 구분되어 주어진다. 나이는 1보다 크거나 같으며, 200보다 작거나 같은 정수이고, 이름은 알파벳 대소문자로 이루어져 있고, 길이가 100보다 작거나 같은 문자열이다. 입력은 가입한 순서로 주어진다.\n",
    "\n",
    "출력\n",
    "첫째 줄부터 총 N개의 줄에 걸쳐 온라인 저지 회원을 나이 순, 나이가 같으면 가입한 순으로 한 줄에 한 명씩 나이와 이름을 공백으로 구분해 출력한다.\n",
    "\n",
    "예제 입력 1 \n",
    "3\n",
    "21 Junkyu\n",
    "21 Dohyun\n",
    "20 Sunyoung\n",
    "예제 출력 1 \n",
    "20 Sunyoung\n",
    "21 Junkyu\n",
    "21 Dohyun\n",
    "</pre>"
   ]
  },
  {
   "cell_type": "code",
   "execution_count": 66,
   "metadata": {},
   "outputs": [],
   "source": [
    "\n",
    "from io import StringIO\n",
    "\n",
    "mock = \"\"\"3\n",
    "21 Junkyu\n",
    "21 Dohyun\n",
    "20 Sunyoung\n",
    "\"\"\"\n",
    "\n",
    "sys.stdin = StringIO(mock)"
   ]
  },
  {
   "cell_type": "code",
   "execution_count": 56,
   "metadata": {},
   "outputs": [
    {
     "name": "stdout",
     "output_type": "stream",
     "text": [
      "20 Sunyoung\n",
      "21 Junkyu\n",
      "21 Dohyun\n"
     ]
    }
   ],
   "source": [
    "import sys\n",
    "\n",
    "sys.stdin = StringIO(mock)\n",
    "\n",
    "L = sys.stdin.readlines()[1:]\n",
    "\n",
    "for i, s in enumerate(L):\n",
    "    L[i] = (str(i) + \" \" + s).split()\n",
    "result = sorted(L, key=lambda l : (int(l[1]), int(l[0])))\n",
    "\n",
    "for s in result:\n",
    "    print(*s[1:])"
   ]
  },
  {
   "cell_type": "code",
   "execution_count": 59,
   "metadata": {},
   "outputs": [
    {
     "name": "stdout",
     "output_type": "stream",
     "text": [
      "20 Sunyoung\n",
      "21 Junkyu\n",
      "21 Dohyun\n"
     ]
    }
   ],
   "source": [
    "import sys\n",
    "\n",
    "for i, s in enumerate(L := sys.stdin.readlines()[1:]):\n",
    "\n",
    "\n",
    "for s in sorted(L, key=lambda l : (int(l[1]), int(l[0]))):\n",
    "    print(*s[1:])"
   ]
  },
  {
   "cell_type": "code",
   "execution_count": 67,
   "metadata": {},
   "outputs": [
    {
     "name": "stdout",
     "output_type": "stream",
     "text": [
      "20 Sunyoung\n",
      "21 Junkyu\n",
      "21 Dohyun\n",
      "\n"
     ]
    }
   ],
   "source": [
    "import sys\n",
    "print(\"\".join(sorted(sys.stdin.readlines()[1:],key=lambda x:x.split()[0])))"
   ]
  },
  {
   "cell_type": "markdown",
   "metadata": {},
   "source": [
    "<pre>\n",
    "문제\n",
    "수직선 위에 N개의 좌표 X1, X2, ..., XN이 있다. 이 좌표에 좌표 압축을 적용하려고 한다.\n",
    "\n",
    "Xi를 좌표 압축한 결과 X'i의 값은 Xi > Xj를 만족하는 서로 다른 좌표 Xj의 개수와 같아야 한다.\n",
    "\n",
    "X1, X2, ..., XN에 좌표 압축을 적용한 결과 X'1, X'2, ..., X'N를 출력해보자.\n",
    "\n",
    "입력\n",
    "첫째 줄에 N이 주어진다.\n",
    "\n",
    "둘째 줄에는 공백 한 칸으로 구분된 X1, X2, ..., XN이 주어진다.\n",
    "\n",
    "출력\n",
    "첫째 줄에 X'1, X'2, ..., X'N을 공백 한 칸으로 구분해서 출력한다.\n",
    "\n",
    "제한\n",
    "1 ≤ N ≤ 1,000,000\n",
    "-109 ≤ Xi ≤ 109\n",
    "예제 입력 1 \n",
    "5\n",
    "2 4 -10 4 -9\n",
    "예제 출력 1 \n",
    "2 3 0 3 1\n",
    "예제 입력 2 \n",
    "6\n",
    "1000 999 1000 999 1000 999\n",
    "예제 출력 2 \n",
    "1 0 1 0 1 0\n",
    "</pre>"
   ]
  },
  {
   "cell_type": "code",
   "execution_count": 106,
   "metadata": {},
   "outputs": [],
   "source": [
    "\n",
    "from io import StringIO\n",
    "\n",
    "mock=\"\"\"1000 999 1000 999 1000 999\"\"\"\n",
    "import sys\n",
    "sys.stdin = StringIO(mock)"
   ]
  },
  {
   "cell_type": "code",
   "execution_count": 91,
   "metadata": {},
   "outputs": [
    {
     "name": "stdout",
     "output_type": "stream",
     "text": [
      "[2, 4, -10, 4, -9]\n"
     ]
    }
   ],
   "source": [
    "import sys\n",
    "sys.stdin = StringIO(mock)\n",
    "L = [*map(int, sys.stdin.readlines()[1:][0].split())]\n",
    "srtL = sorted(set(L))\n",
    "print(L)\n",
    "\n",
    "x = map(lambda x:srtL.index(x), L)\n",
    "print(*x)"
   ]
  },
  {
   "cell_type": "code",
   "execution_count": 121,
   "metadata": {},
   "outputs": [
    {
     "name": "stdout",
     "output_type": "stream",
     "text": [
      "2 3 0 3 1 "
     ]
    }
   ],
   "source": [
    "import sys\n",
    "\n",
    "N = sys.stdin.readline()\n",
    "L = list(map(int, sys.stdin.readline().split()))\n",
    "sortL = sorted(set(L))\n",
    "indexMap = {idx: n for n, idx in enumerate(sortL)}\n",
    "\n",
    "for x in L:\n",
    "    print(indexMap[x], end=' ')"
   ]
  },
  {
   "cell_type": "code",
   "execution_count": null,
   "metadata": {},
   "outputs": [],
   "source": [
    "import sys\n",
    "sys.stdin = StringIO(mock)\n",
    "L = [*map(int, sys.stdin.readlines()[1:][0].split())]\n",
    "srtL = sorted(set(L))\n",
    "print(L)"
   ]
  },
  {
   "cell_type": "markdown",
   "metadata": {},
   "source": [
    "<pre>\n",
    "문제\n",
    "숫자 카드는 정수 하나가 적혀져 있는 카드이다. 상근이는 숫자 카드 N개를 가지고 있다. 정수 M개가 주어졌을 때, 이 수가 적혀있는 숫자 카드를 상근이가 가지고 있는지 아닌지를 구하는 프로그램을 작성하시오.\n",
    "\n",
    "입력\n",
    "첫째 줄에 상근이가 가지고 있는 숫자 카드의 개수 N(1 ≤ N ≤ 500,000)이 주어진다. 둘째 줄에는 숫자 카드에 적혀있는 정수가 주어진다. 숫자 카드에 적혀있는 수는 -10,000,000보다 크거나 같고, 10,000,000보다 작거나 같다. 두 숫자 카드에 같은 수가 적혀있는 경우는 없다.\n",
    "\n",
    "셋째 줄에는 M(1 ≤ M ≤ 500,000)이 주어진다. 넷째 줄에는 상근이가 가지고 있는 숫자 카드인지 아닌지를 구해야 할 M개의 정수가 주어지며, 이 수는 공백으로 구분되어져 있다. 이 수도 -10,000,000보다 크거나 같고, 10,000,000보다 작거나 같다\n",
    "\n",
    "출력\n",
    "첫째 줄에 입력으로 주어진 M개의 수에 대해서, 각 수가 적힌 숫자 카드를 상근이가 가지고 있으면 1을, 아니면 0을 공백으로 구분해 출력한다.\n",
    "\n",
    "예제 입력 1 \n",
    "5\n",
    "6 3 2 10 -10\n",
    "8\n",
    "10 9 -5 2 3 4 5 -10\n",
    "예제 출력 1 \n",
    "1 0 0 1 1 0 0 1\n",
    "</pre>>\n"
   ]
  },
  {
   "cell_type": "code",
   "execution_count": 137,
   "metadata": {},
   "outputs": [],
   "source": [
    "N = int(input())    \n",
    "Nset = set(int(i) for i in input().split())\n",
    "\n",
    "M = int(input())\n",
    "Mlist = [*map(int, input().split())]\n",
    "\n",
    "for i, m in enumerate(Mlist):\n",
    "    if m in Nset:\n",
    "        Mlist[i]=1\n",
    "    else:\n",
    "        Mlist[i]=0\n",
    "print(*Mlist)\n"
   ]
  },
  {
   "cell_type": "code",
   "execution_count": 142,
   "metadata": {},
   "outputs": [
    {
     "name": "stdout",
     "output_type": "stream",
     "text": [
      "1 0 0 1 1 0 0 1\n"
     ]
    }
   ],
   "source": [
    "import sys\n",
    "\n",
    "N = sys.stdin.readline()\n",
    "Nset = set(i for i in sys.stdin.readline().split())\n",
    "\n",
    "M = sys.stdin.readline()\n",
    "print(\" \".join('1' if i in Nset else '0' for i in sys.stdin.readline().split()))\n",
    "\n"
   ]
  },
  {
   "cell_type": "markdown",
   "metadata": {},
   "source": [
    "<pre>\n",
    "문제\n",
    "총 N개의 문자열로 이루어진 집합 S가 주어진다.\n",
    "\n",
    "입력으로 주어지는 M개의 문자열 중에서 집합 S에 포함되어 있는 것이 총 몇 개인지 구하는 프로그램을 작성하시오.\n",
    "\n",
    "입력\n",
    "첫째 줄에 문자열의 개수 N과 M (1 ≤ N ≤ 10,000, 1 ≤ M ≤ 10,000)이 주어진다.\n",
    "\n",
    "다음 N개의 줄에는 집합 S에 포함되어 있는 문자열들이 주어진다.\n",
    "\n",
    "다음 M개의 줄에는 검사해야 하는 문자열들이 주어진다.\n",
    "\n",
    "입력으로 주어지는 문자열은 알파벳 소문자로만 이루어져 있으며, 길이는 500을 넘지 않는다. 집합 S에 같은 문자열이 여러 번 주어지는 경우는 없다.\n",
    "\n",
    "출력\n",
    "첫째 줄에 M개의 문자열 중에 총 몇 개가 집합 S에 포함되어 있는지 출력한다.\n",
    "\n",
    "예제 입력 1 \n",
    "5 11\n",
    "baekjoononlinejudge\n",
    "startlink\n",
    "codeplus\n",
    "sundaycoding\n",
    "codingsh\n",
    "baekjoon\n",
    "codeplus\n",
    "codeminus\n",
    "startlink\n",
    "starlink\n",
    "sundaycoding\n",
    "codingsh\n",
    "codinghs\n",
    "sondaycoding\n",
    "startrink\n",
    "icerink\n",
    "\n",
    "예제 출력 1 \n",
    "4\n",
    "</pre>"
   ]
  },
  {
   "cell_type": "code",
   "execution_count": 223,
   "metadata": {},
   "outputs": [],
   "source": [
    "from io import StringIO\n",
    "mock=\"\"\"5 11\n",
    "baekjoononlinejudge\n",
    "startlink\n",
    "codeplus\n",
    "sundaycoding\n",
    "codingsh\n",
    "baekjoon\n",
    "codeplus\n",
    "codeminus\n",
    "startlink\n",
    "starlink\n",
    "baekjoononlinejudge\n",
    "baekjoononlinejudge\n",
    "baekjoononlinejudge\n",
    "baekjoononlinejudge\n",
    "startrink\n",
    "icerink\"\"\""
   ]
  },
  {
   "cell_type": "code",
   "execution_count": 224,
   "metadata": {},
   "outputs": [
    {
     "name": "stdout",
     "output_type": "stream",
     "text": [
      "{'startlink', 'codeplus', 'codingsh', 'baekjoononlinejudge', 'sundaycoding'}\n",
      "{0: 'baekjoon', 1: 'codeplus', 2: 'codeminus', 3: 'startlink', 4: 'starlink', 5: 'baekjoononlinejudge', 6: 'baekjoononlinejudge', 7: 'baekjoononlinejudge', 8: 'baekjoononlinejudge', 9: 'startrink', 10: 'icerink'}\n",
      "codeplus\n",
      "baekjoon\n",
      "False\n",
      "codeplus\n",
      "True\n",
      "codeminus\n",
      "False\n",
      "startlink\n",
      "True\n",
      "starlink\n",
      "False\n",
      "baekjoononlinejudge\n",
      "True\n",
      "baekjoononlinejudge\n",
      "True\n",
      "baekjoononlinejudge\n",
      "True\n",
      "baekjoononlinejudge\n",
      "True\n",
      "startrink\n",
      "False\n",
      "icerink\n",
      "False\n",
      "6\n"
     ]
    }
   ],
   "source": [
    "import sys\n",
    "sys.stdin = StringIO(mock)\n",
    "lines = sys.stdin.readlines()\n",
    "\n",
    "N, M = map(int, lines[0].split())\n",
    "S = set(x.rstrip() for x in lines[1:N+1])\n",
    "L = {i:x.rstrip() for i,x in enumerate(lines[N+1:])}\n",
    "print(S)\n",
    "print(L)\n",
    "print(L[1])\n",
    "for i in L:\n",
    "    print(L[i])\n",
    "    print(L[i] in S)\n",
    "print(sum(1 if L[i] in S else 0 for i in L))"
   ]
  },
  {
   "cell_type": "code",
   "execution_count": 183,
   "metadata": {},
   "outputs": [
    {
     "data": {
      "text/plain": [
       "5"
      ]
     },
     "execution_count": 183,
     "metadata": {},
     "output_type": "execute_result"
    }
   ],
   "source": [
    "import sys\n",
    "\n",
    "lines = sys.stdin.readlines()\n",
    "\n",
    "N, M = map(int, lines[0].split())\n",
    "S = set(x.rstrip() for x in lines[1:N+1])\n",
    "L = {i:x.rstrip() for i,x in enumerate(lines[N+1:])}\n",
    "print(sum(1 if L[i] in S else 0 for i in L))"
   ]
  },
  {
   "cell_type": "markdown",
   "metadata": {},
   "source": [
    "<pre>\n",
    "문제\n",
    "상근이는 세계적인 소프트웨어 회사 기글에서 일한다. 이 회사의 가장 큰 특징은 자유로운 출퇴근 시간이다. 따라서, 직원들은 반드시 9시부터 6시까지 회사에 있지 않아도 된다.\n",
    "\n",
    "각 직원은 자기가 원할 때 출근할 수 있고, 아무때나 퇴근할 수 있다.\n",
    "\n",
    "상근이는 모든 사람의 출입카드 시스템의 로그를 가지고 있다. 이 로그는 어떤 사람이 회사에 들어왔는지, 나갔는지가 기록되어져 있다. 로그가 주어졌을 때, 현재 회사에 있는 모든 사람을 구하는 프로그램을 작성하시오.\n",
    "\n",
    "입력\n",
    "첫째 줄에 로그에 기록된 출입 기록의 수 n이 주어진다. (2 ≤ n ≤ 106) 다음 n개의 줄에는 출입 기록이 순서대로 주어지며, 각 사람의 이름이 주어지고 \"enter\"나 \"leave\"가 주어진다. \"enter\"인 경우는 출근, \"leave\"인 경우는 퇴근이다.\n",
    "\n",
    "회사에는 동명이인이 없으며, 대소문자가 다른 경우에는 다른 이름이다. 사람들의 이름은 알파벳 대소문자로 구성된 5글자 이하의 문자열이다.\n",
    "\n",
    "출력\n",
    "현재 회사에 있는 사람의 이름을 사전 순의 역순으로 한 줄에 한 명씩 출력한다.\n",
    "\n",
    "예제 입력 1 \n",
    "4\n",
    "Baha enter\n",
    "Askar enter\n",
    "Baha leave\n",
    "Artem enter\n",
    "예제 출력 1 \n",
    "Askar\n",
    "Artem\n",
    "</pre>"
   ]
  },
  {
   "cell_type": "code",
   "execution_count": 259,
   "metadata": {},
   "outputs": [],
   "source": [
    "from io import StringIO\n",
    "import sys\n",
    "\n",
    "mock =\"\"\"4\n",
    "Baha enter\n",
    "Askar enter\n",
    "Baha leave\n",
    "Artem enter\n",
    "\"\"\""
   ]
  },
  {
   "cell_type": "code",
   "execution_count": 260,
   "metadata": {},
   "outputs": [
    {
     "name": "stdout",
     "output_type": "stream",
     "text": [
      "['Baha', 'Baha', 'Askar', 'Artem']\n",
      "{'Baha': 2, 'Askar': 1, 'Artem': 1}\n",
      "Askar\n",
      "Artem\n"
     ]
    }
   ],
   "source": [
    "import sys\n",
    "sys.stdin = StringIO(mock)\n",
    "data = sys.stdin.readlines()\n",
    "L = sorted([i.split()[0] for i in data[1:]], reverse=True)\n",
    "print(L)\n",
    "dictL = {x:L.count(x) for i, x in enumerate(L)}\n",
    "print(dictL)\n",
    "\n",
    "for x in dictL:\n",
    "    if dictL[x]%2:\n",
    "        print(x)\n",
    "\n"
   ]
  },
  {
   "cell_type": "markdown",
   "metadata": {},
   "source": [
    "<pre>\n",
    "입력\n",
    "첫째 줄에는 도감에 수록되어 있는 포켓몬의 개수 N이랑 내가 맞춰야 하는 문제의 개수 M이 주어져. N과 M은 1보다 크거나 같고, 100,000보다 작거나 같은 자연수인데, 자연수가 뭔지는 알지? 모르면 물어봐도 괜찮아. 나는 언제든지 질문에 답해줄 준비가 되어있어.\n",
    "\n",
    "둘째 줄부터 N개의 줄에 포켓몬의 번호가 1번인 포켓몬부터 N번에 해당하는 포켓몬까지 한 줄에 하나씩 입력으로 들어와. 포켓몬의 이름은 모두 영어로만 이루어져있고, 또, 음... 첫 글자만 대문자이고, 나머지 문자는 소문자로만 이루어져 있어. 아참! 일부 포켓몬은 마지막 문자만 대문자일 수도 있어. 포켓몬 이름의 최대 길이는 20, 최소 길이는 2야. 그 다음 줄부터 총 M개의 줄에 내가 맞춰야하는 문제가 입력으로 들어와. 문제가 알파벳으로만 들어오면 포켓몬 번호를 말해야 하고, 숫자로만 들어오면, 포켓몬 번호에 해당하는 문자를 출력해야해. 입력으로 들어오는 숫자는 반드시 1보다 크거나 같고, N보다 작거나 같고, 입력으로 들어오는 문자는 반드시 도감에 있는 포켓몬의 이름만 주어져. 그럼 화이팅!!!\n",
    "\n",
    "출력\n",
    "첫째 줄부터 차례대로 M개의 줄에 각각의 문제에 대한 답을 말해줬으면 좋겠어!!!. 입력으로 숫자가 들어왔다면 그 숫자에 해당하는 포켓몬의 이름을, 문자가 들어왔으면 그 포켓몬의 이름에 해당하는 번호를 출력하면 돼. 그럼 땡큐~\n",
    "\n",
    "\n",
    "\n",
    "이게 오박사님이 나에게 새로 주시려고 하는 도감이야. 너무 가지고 싶다ㅠㅜ. 꼭 만점을 받아줬으면 좋겠어!! 파이팅!!!\n",
    "\n",
    "예제 입력 1 \n",
    "26 5\n",
    "Bulbasaur\n",
    "Ivysaur\n",
    "Venusaur\n",
    "Charmander\n",
    "Charmeleon\n",
    "Charizard\n",
    "Squirtle\n",
    "Wartortle\n",
    "Blastoise\n",
    "Caterpie\n",
    "Metapod\n",
    "Butterfree\n",
    "Weedle\n",
    "Kakuna\n",
    "Beedrill\n",
    "Pidgey\n",
    "Pidgeotto\n",
    "Pidgeot\n",
    "Rattata\n",
    "Raticate\n",
    "Spearow\n",
    "Fearow\n",
    "Ekans\n",
    "Arbok\n",
    "Pikachu\n",
    "Raichu\n",
    "25\n",
    "Raichu\n",
    "3\n",
    "Pidgey\n",
    "Kakuna\n",
    "예제 출력 1 \n",
    "Pikachu\n",
    "26\n",
    "Venusaur\n",
    "16\n",
    "14\n",
    "</pre>"
   ]
  },
  {
   "cell_type": "code",
   "execution_count": 6,
   "metadata": {},
   "outputs": [],
   "source": [
    "from io import StringIO\n",
    "import sys\n",
    "mock = \"\"\"26 5\n",
    "Bulbasaur\n",
    "Ivysaur\n",
    "Venusaur\n",
    "Charmander\n",
    "Charmeleon\n",
    "Charizard\n",
    "Squirtle\n",
    "Wartortle\n",
    "Blastoise\n",
    "Caterpie\n",
    "Metapod\n",
    "Butterfree\n",
    "Weedle\n",
    "Kakuna\n",
    "Beedrill\n",
    "Pidgey\n",
    "Pidgeotto\n",
    "Pidgeot\n",
    "Rattata\n",
    "Raticate\n",
    "Spearow\n",
    "Fearow\n",
    "Ekans\n",
    "Arbok\n",
    "Pikachu\n",
    "Raichu\n",
    "25\n",
    "Raichu\n",
    "3\n",
    "Pidgey\n",
    "Kakuna\n",
    "\"\"\"\n",
    "sys.stdin = StringIO(mock)\n"
   ]
  },
  {
   "cell_type": "code",
   "execution_count": 2,
   "metadata": {},
   "outputs": [
    {
     "name": "stdout",
     "output_type": "stream",
     "text": [
      "Pikachu\n",
      "26\n",
      "Venusaur\n",
      "16\n",
      "14\n"
     ]
    }
   ],
   "source": [
    "import sys\n",
    "\n",
    "data = sys.stdin.readlines()\n",
    "N, M = map(int, data[0].split())\n",
    "key_value = {str(i+1):x.rstrip() for i, x in enumerate(data[1:N+1])}\n",
    "value_key = {x:i for i, x in key_value.items()}\n",
    "L = [x.rstrip() for x in data[N+1:]]\n",
    "for x in L:\n",
    "    if ord(x[0]) >= 65: # 문자\n",
    "        print(value_key[x])\n",
    "    else:\n",
    "        print(key_value[x])\n"
   ]
  },
  {
   "cell_type": "code",
   "execution_count": 21,
   "metadata": {},
   "outputs": [
    {
     "name": "stdout",
     "output_type": "stream",
     "text": [
      "['None', 'Bulbasaur', 'Ivysaur', 'Venusaur', 'Charmander', 'Charmeleon', 'Charizard', 'Squirtle', 'Wartortle', 'Blastoise', 'Caterpie', 'Metapod', 'Butterfree', 'Weedle', 'Kakuna', 'Beedrill', 'Pidgey', 'Pidgeotto', 'Pidgeot', 'Rattata', 'Raticate', 'Spearow', 'Fearow', 'Ekans', 'Arbok', 'Pikachu', 'Raichu']\n",
      "{'None': 0, 'Bulbasaur': 1, 'Ivysaur': 2, 'Venusaur': 3, 'Charmander': 4, 'Charmeleon': 5, 'Charizard': 6, 'Squirtle': 7, 'Wartortle': 8, 'Blastoise': 9, 'Caterpie': 10, 'Metapod': 11, 'Butterfree': 12, 'Weedle': 13, 'Kakuna': 14, 'Beedrill': 15, 'Pidgey': 16, 'Pidgeotto': 17, 'Pidgeot': 18, 'Rattata': 19, 'Raticate': 20, 'Spearow': 21, 'Fearow': 22, 'Ekans': 23, 'Arbok': 24, 'Pikachu': 25, 'Raichu': 26}\n",
      "Pikachu\n",
      "26\n",
      "Venusaur\n",
      "16\n",
      "14\n"
     ]
    }
   ],
   "source": [
    "import sys\n",
    "sys.stdin = StringIO(mock)\n",
    "data = sys.stdin.readlines()\n",
    "N, M = map(int, data[0].split())\n",
    "key_value = [\"None\"]+[x.rstrip() for x in data[1:N+1]]\n",
    "value_key = {x.rstrip(): i for i, x in enumerate(key_value)}\n",
    "L = [x.rstrip() for x in data[N+1:]]\n",
    "print(key_value)\n",
    "print(value_key)\n",
    "for x in L:\n",
    "    if ord(x[0]) >= 65: # 문자\n",
    "        print(value_key[x])\n",
    "    else:\n",
    "        print(key_value[int(x)])\n"
   ]
  },
  {
   "cell_type": "markdown",
   "metadata": {},
   "source": [
    "<pre>\n",
    "문제\n",
    "숫자 카드는 정수 하나가 적혀져 있는 카드이다. 상근이는 숫자 카드 N개를 가지고 있다. 정수 M개가 주어졌을 때, 이 수가 적혀있는 숫자 카드를 상근이가 몇 개 가지고 있는지 구하는 프로그램을 작성하시오.\n",
    "\n",
    "입력\n",
    "첫째 줄에 상근이가 가지고 있는 숫자 카드의 개수 N(1 ≤ N ≤ 500,000)이 주어진다. 둘째 줄에는 숫자 카드에 적혀있는 정수가 주어진다. 숫자 카드에 적혀있는 수는 -10,000,000보다 크거나 같고, 10,000,000보다 작거나 같다.\n",
    "\n",
    "셋째 줄에는 M(1 ≤ M ≤ 500,000)이 주어진다. 넷째 줄에는 상근이가 몇 개 가지고 있는 숫자 카드인지 구해야 할 M개의 정수가 주어지며, 이 수는 공백으로 구분되어져 있다. 이 수도 -10,000,000보다 크거나 같고, 10,000,000보다 작거나 같다.\n",
    "\n",
    "출력\n",
    "첫째 줄에 입력으로 주어진 M개의 수에 대해서, 각 수가 적힌 숫자 카드를 상근이가 몇 개 가지고 있는지를 공백으로 구분해 출력한다.\n",
    "\n",
    "예제 입력 1 \n",
    "10\n",
    "6 3 2 10 10 10 -10 -10 7 3\n",
    "8\n",
    "10 9 -5 2 3 4 5 -10\n",
    "예제 출력 1 \n",
    "3 0 0 1 2 0 0 2\n",
    "</pre>"
   ]
  },
  {
   "cell_type": "code",
   "execution_count": 47,
   "metadata": {},
   "outputs": [
    {
     "name": "stdout",
     "output_type": "stream",
     "text": [
      "3 0 0 1 2 0 0 2\n"
     ]
    }
   ],
   "source": [
    "from collections import Counter\n",
    "\n",
    "n = 10\n",
    "N = '6 3 2 10 10 10 -10 -10 7 3'.split()\n",
    "cntN = Counter(N)\n",
    "m = 8\n",
    "M = '10 9 -5 2 3 4 5 -10'.split()\n",
    "\n",
    "print(' '.join(str(cntN[x]) if x in cntN else '0' for x in M))\n"
   ]
  },
  {
   "cell_type": "code",
   "execution_count": 2,
   "metadata": {},
   "outputs": [],
   "source": [
    "from io import StringIO;import sys\n",
    "mock = \"\"\"10\n",
    "6 3 2 10 10 10 -10 -10 7 3\n",
    "8\n",
    "10 9 -5 2 3 4 5 -10\"\"\"\n",
    "\n",
    "sys.stdin = StringIO(mock)"
   ]
  },
  {
   "cell_type": "code",
   "execution_count": 3,
   "metadata": {},
   "outputs": [
    {
     "name": "stdout",
     "output_type": "stream",
     "text": [
      "3 0 0 1 2 0 0 2\n"
     ]
    }
   ],
   "source": [
    "from collections import Counter;import sys\n",
    "data = sys.stdin.readlines()\n",
    "print(' '.join(str(N[x]) if x in (N:=Counter(data[1].split())) else '0' for x in data[3].split()))"
   ]
  },
  {
   "cell_type": "markdown",
   "metadata": {},
   "source": [
    "<pre>\n",
    "입력\n",
    "첫째 줄에 듣도 못한 사람의 수 N, 보도 못한 사람의 수 M이 주어진다. 이어서 둘째 줄부터 N개의 줄에 걸쳐 듣도 못한 사람의 이름과, N+2째 줄부터 보도 못한 사람의 이름이 순서대로 주어진다. 이름은 띄어쓰기 없이 알파벳 소문자로만 이루어지며, 그 길이는 20 이하이다. N, M은 500,000 이하의 자연수이다.\n",
    "\n",
    "듣도 못한 사람의 명단에는 중복되는 이름이 없으며, 보도 못한 사람의 명단도 마찬가지이다.\n",
    "\n",
    "출력\n",
    "듣보잡의 수와 그 명단을 사전순으로 출력한다.\n",
    "\n",
    "예제 입력 1 \n",
    "3 4\n",
    "ohhenrie\n",
    "charlie\n",
    "baesangwook\n",
    "obama\n",
    "baesangwook\n",
    "ohhenrie\n",
    "clinton\n",
    "예제 출력 1 \n",
    "2\n",
    "baesangwook\n",
    "ohhenrie\n",
    "</pre>"
   ]
  },
  {
   "cell_type": "code",
   "execution_count": 24,
   "metadata": {},
   "outputs": [],
   "source": [
    "from io import StringIO\n",
    "import sys\n",
    "mock = \"\"\"3 4\n",
    "ohhenrie\n",
    "charlie\n",
    "baesangwook\n",
    "obama\n",
    "baesangwook\n",
    "ohhenrie\n",
    "clinton\"\"\"\n",
    "sys.stdin = StringIO(mock)"
   ]
  },
  {
   "cell_type": "code",
   "execution_count": 25,
   "metadata": {},
   "outputs": [
    {
     "name": "stdout",
     "output_type": "stream",
     "text": [
      "2\n",
      "baesangwook\n",
      "ohhenrie\n"
     ]
    }
   ],
   "source": [
    "import sys\n",
    "\n",
    "data = sys.stdin.read().split('\\n')\n",
    "N = int(data[0].split()[0])\n",
    "L = set(data[1:N+1])\n",
    "S = set(data[N+1:])\n",
    "X = sorted(S.intersection(L))\n",
    "print(len(X), *X, sep='\\n')"
   ]
  },
  {
   "cell_type": "markdown",
   "metadata": {},
   "source": [
    "<pre>입력\n",
    "첫째 줄에 집합 A의 원소의 개수와 집합 B의 원소의 개수가 빈 칸을 사이에 두고 주어진다. 둘째 줄에는 집합 A의 모든 원소가, 셋째 줄에는 집합 B의 모든 원소가 빈 칸을 사이에 두고 각각 주어진다. 각 집합의 원소의 개수는 200,000을 넘지 않으며, 모든 원소의 값은 100,000,000을 넘지 않는다.\n",
    "\n",
    "출력\n",
    "첫째 줄에 대칭 차집합의 원소의 개수를 출력한다.\n",
    "\n",
    "예제 입력 1 \n",
    "3 5\n",
    "1 2 4\n",
    "2 3 4 5 6\n",
    "예제 출력 1 \n",
    "4\n",
    "</pre>"
   ]
  },
  {
   "cell_type": "code",
   "execution_count": 33,
   "metadata": {},
   "outputs": [],
   "source": [
    "from io import StringIO\n",
    "import sys\n",
    "mock = \"\"\"3 5\n",
    "1 2 4\n",
    "2 3 4 5 6\"\"\"\n",
    "sys.stdin = StringIO(mock)"
   ]
  },
  {
   "cell_type": "code",
   "execution_count": 34,
   "metadata": {},
   "outputs": [
    {
     "name": "stdout",
     "output_type": "stream",
     "text": [
      "4\n"
     ]
    }
   ],
   "source": [
    "import sys\n",
    "\n",
    "data = sys.stdin.read().split('\\n')\n",
    "A = set(data[1].split())\n",
    "B = set(data[2].split())\n",
    "print(len(A ^ B))"
   ]
  },
  {
   "cell_type": "markdown",
   "metadata": {},
   "source": [
    "<pre>\n",
    "문제\n",
    "문자열 S가 주어졌을 때, S의 서로 다른 부분 문자열의 개수를 구하는 프로그램을 작성하시오.\n",
    "\n",
    "부분 문자열은 S에서 연속된 일부분을 말하며, 길이가 1보다 크거나 같아야 한다.\n",
    "\n",
    "예를 들어, ababc의 부분 문자열은 a, b, a, b, c, ab, ba, ab, bc, aba, bab, abc, abab, babc, ababc가 있고, 서로 다른것의 개수는 12개이다.\n",
    "\n",
    "입력\n",
    "첫째 줄에 문자열 S가 주어진다. S는 알파벳 소문자로만 이루어져 있고, 길이는 1,000 이하이다.\n",
    "\n",
    "출력\n",
    "첫째 줄에 S의 서로 다른 부분 문자열의 개수를 출력한다.\n",
    "\n",
    "예제 입력 1 \n",
    "ababc\n",
    "예제 출력 1 \n",
    "12\n",
    "</pre>"
   ]
  },
  {
   "cell_type": "code",
   "execution_count": 73,
   "metadata": {},
   "outputs": [
    {
     "name": "stdout",
     "output_type": "stream",
     "text": [
      "12\n"
     ]
    }
   ],
   "source": [
    "L = list(input())\n",
    "S = set(L)\n",
    "\n",
    "for j in range(2, len(L)+1):\n",
    "    for i in range(0, len(L)):\n",
    "        # slicing은 인덱스를 초과해도 에러를 반환하지 않는다람쥐\n",
    "        sub = ''.join(L[i:i+j])\n",
    "        S.add(sub)\n",
    "\n",
    "print(len(S))\n"
   ]
  },
  {
   "cell_type": "code",
   "execution_count": 70,
   "metadata": {},
   "outputs": [
    {
     "name": "stdout",
     "output_type": "stream",
     "text": [
      "5\n"
     ]
    }
   ],
   "source": [
    "L = list(\"ababc\")\n",
    "S=set()\n",
    "\n",
    "# slicing은 인덱스를 초과해도 에러를 반환하지 않는다람쥐\n",
    "for i in range(0, len(L)):\n",
    "    sub = ''.join(L[i:i+3])\n",
    "    S.add(sub)\n",
    "    \n",
    "print(sorted(S, key= lambda x : len(x)))\n",
    "print(len(S))\n"
   ]
  },
  {
   "cell_type": "code",
   "execution_count": 71,
   "metadata": {},
   "outputs": [
    {
     "name": "stdout",
     "output_type": "stream",
     "text": [
      "babc\n"
     ]
    }
   ],
   "source": [
    "L = list(\"ababc\")\n",
    "S=set()\n",
    "sub = ''.join(L[1:1132])\n",
    "print(sub)"
   ]
  },
  {
   "cell_type": "markdown",
   "metadata": {},
   "source": [
    "<pre>\n",
    "문제\n",
    "두 자연수 A와 B에 대해서, A의 배수이면서 B의 배수인 자연수를 A와 B의 공배수라고 한다. 이런 공배수 중에서 가장 작은 수를 최소공배수라고 한다. 예를 들어, 6과 15의 공배수는 30, 60, 90등이 있으며, 최소 공배수는 30이다.\n",
    "\n",
    "두 자연수 A와 B가 주어졌을 때, A와 B의 최소공배수를 구하는 프로그램을 작성하시오.\n",
    "\n",
    "입력\n",
    "첫째 줄에 테스트 케이스의 개수 T(1 ≤ T ≤ 1,000)가 주어진다. 둘째 줄부터 T개의 줄에 걸쳐서 A와 B가 주어진다. (1 ≤ A, B ≤ 45,000)\n",
    "\n",
    "출력\n",
    "첫째 줄부터 T개의 줄에 A와 B의 최소공배수를 입력받은 순서대로 한 줄에 하나씩 출력한다.\n",
    "\n",
    "예제 입력 1 \n",
    "3\n",
    "1 45000\n",
    "6 10\n",
    "13 17\n",
    "\n",
    "예제 출력 1 \n",
    "45000\n",
    "30\n",
    "221\n",
    "\n",
    "1079, 1029\n",
    "\n",
    "</pre>"
   ]
  },
  {
   "cell_type": "code",
   "execution_count": 23,
   "metadata": {},
   "outputs": [],
   "source": [
    "# 유클리드 호제법\n",
    "def gcd(m,n):\n",
    "    if m < n:\n",
    "        m, n = n, m\n",
    "    if n == 0:\n",
    "        return m\n",
    "    if m%n==0:\n",
    "        return n\n",
    "    else:\n",
    "        return gcd(n, m%n)"
   ]
  },
  {
   "cell_type": "code",
   "execution_count": 39,
   "metadata": {},
   "outputs": [
    {
     "name": "stdout",
     "output_type": "stream",
     "text": [
      "6\n",
      "12\n"
     ]
    }
   ],
   "source": [
    "a, b = 6, 12\n",
    "print(x:=gcd(a, b))\n",
    "print((a*b)//x)\n",
    "\n"
   ]
  },
  {
   "cell_type": "code",
   "execution_count": 12,
   "metadata": {},
   "outputs": [],
   "source": [
    "import sys\n",
    "from io import StringIO\n",
    "\n",
    "mock = \"\"\"3\n",
    "1 45000\n",
    "6 10\n",
    "13 17\"\"\"\n",
    "\n",
    "sys.stdin = StringIO(mock)\n",
    "\n"
   ]
  },
  {
   "cell_type": "code",
   "execution_count": 13,
   "metadata": {},
   "outputs": [
    {
     "name": "stdout",
     "output_type": "stream",
     "text": [
      "45000\n",
      "30\n",
      "221\n"
     ]
    }
   ],
   "source": [
    "import sys\n",
    "\n",
    "data = sys.stdin.read().splitlines()\n",
    "data = data[1:]\n",
    "\n",
    "# 유클리드 호제법\n",
    "def gcd(m,n):\n",
    "    if m < n:\n",
    "        m, n = n, m\n",
    "    if n == 0:\n",
    "        return m\n",
    "    if m%n==0:\n",
    "        return n\n",
    "    else:\n",
    "        return gcd(n, m%n)\n",
    "\n",
    "for l in data:\n",
    "    a, b = map(int, l.split())\n",
    "    print((a*b)//gcd(a, b))"
   ]
  },
  {
   "cell_type": "markdown",
   "metadata": {},
   "source": [
    "<pre>\n",
    "문제\n",
    "정수 B에 0보다 큰 정수인 N을 곱해 정수 A를 만들 수 있다면, A는 B의 배수이다.\n",
    "\n",
    "예:\n",
    "\n",
    "10은 5의 배수이다 (5*2 = 10)\n",
    "10은 10의 배수이다(10*1 = 10)\n",
    "6은 1의 배수이다(1*6 = 6)\n",
    "20은 1, 2, 4,5,10,20의 배수이다.\n",
    "다른 예:\n",
    "\n",
    "2와 5의 최소공배수는 10이고, 그 이유는 2와 5보다 작은 공배수가 없기 때문이다.\n",
    "10과 20의 최소공배수는 20이다.\n",
    "5와 3의 최소공배수는 15이다.\n",
    "당신은 두 수에 대하여 최소공배수를 구하는 프로그램을 작성 하는 것이 목표이다.\n",
    "\n",
    "입력\n",
    "한 줄에 두 정수 A와 B가 공백으로 분리되어 주어진다.\n",
    "\n",
    "50%의 입력 중 A와 B는 1000(103)보다 작다. 다른 50%의 입력은 1000보다 크고 100000000(108)보다 작다.\n",
    "\n",
    "추가: 큰 수 입력에 대하여 변수를 64비트 정수로 선언하시오. C/C++에서는 long long int를 사용하고, Java에서는 long을 사용하시오.\n",
    "\n",
    "출력\n",
    "A와 B의 최소공배수를 한 줄에 출력한다.\n",
    "\n",
    "예제 입력 1 \n",
    "1 1\n",
    "예제 출력 1 \n",
    "1\n",
    "예제 입력 2 \n",
    "3 5\n",
    "예제 출력 2 \n",
    "15\n",
    "예제 입력 3 \n",
    "1 123\n",
    "예제 출력 3 \n",
    "123\n",
    "예제 입력 4 \n",
    "121 199\n",
    "예제 출력 4 \n",
    "24079\n",
    "</pre>"
   ]
  },
  {
   "cell_type": "code",
   "execution_count": 19,
   "metadata": {},
   "outputs": [
    {
     "name": "stdout",
     "output_type": "stream",
     "text": [
      "15\n"
     ]
    }
   ],
   "source": [
    "def gcd(m,n):\n",
    "    if m < n:\n",
    "        m, n = n, m\n",
    "    if n == 0:\n",
    "        return m\n",
    "    if m%n==0:\n",
    "        return n\n",
    "    else:\n",
    "        return gcd(n, m%n)\n",
    "    \n",
    "a, b = map(int, input().split())\n",
    "    \n",
    "print((a*b)//gcd(a, b))"
   ]
  },
  {
   "cell_type": "markdown",
   "metadata": {},
   "source": [
    "<pre>\n",
    "문제\n",
    "분수 A/B는 분자가 A, 분모가 B인 분수를 의미한다. A와 B는 모두 자연수라고 하자.\n",
    "\n",
    "두 분수의 합 또한 분수로 표현할 수 있다. 두 분수가 주어졌을 때, 그 합을 기약분수의 형태로 구하는 프로그램을 작성하시오. 기약분수란 더 이상 약분되지 않는 분수를 의미한다.\n",
    "\n",
    "입력\n",
    "첫째 줄과 둘째 줄에, 각 분수의 분자와 분모를 뜻하는 두 개의 자연수가 순서대로 주어진다. 입력되는 네 자연수는 모두 30,000 이하이다.\n",
    "\n",
    "출력\n",
    "첫째 줄에 구하고자 하는 기약분수의 분자와 분모를 뜻하는 두 개의 자연수를 빈 칸을 사이에 두고 순서대로 출력한다.\n",
    "\n",
    "예제 입력 1 \n",
    "2 7\n",
    "3 5\n",
    "\n",
    "예제 출력 1 \n",
    "31 35\n",
    "</pre>"
   ]
  },
  {
   "cell_type": "code",
   "execution_count": 24,
   "metadata": {},
   "outputs": [
    {
     "name": "stdout",
     "output_type": "stream",
     "text": [
      "1 2\n"
     ]
    }
   ],
   "source": [
    "a, b = map(int, input().split())\n",
    "c, d = map(int, input().split())\n",
    "\n",
    "def gcd(m,n):\n",
    "    if m < n:\n",
    "        m, n = n, m\n",
    "    if n == 0:\n",
    "        return m\n",
    "    if m%n==0:\n",
    "        return n\n",
    "    else:\n",
    "        return gcd(n, m%n)\n",
    "#약분 전\n",
    "GCD = gcd(b, d)\n",
    "x, y = a*d//GCD+c*b//GCD, b*d//GCD\n",
    "\n",
    "#약분 시~발\n",
    "GCD = gcd(x, y)\n",
    "print(x//GCD, y//GCD)"
   ]
  },
  {
   "cell_type": "code",
   "execution_count": 32,
   "metadata": {},
   "outputs": [
    {
     "data": {
      "text/plain": [
       "2"
      ]
     },
     "execution_count": 32,
     "metadata": {},
     "output_type": "execute_result"
    }
   ],
   "source": [
    "gcd(gcd(2, 4), 6)\n"
   ]
  },
  {
   "cell_type": "markdown",
   "metadata": {},
   "source": [
    "<pre>\n",
    "문제\n",
    "직선으로 되어있는 도로의 한 편에 가로수가 임의의 간격으로 심어져있다. KOI 시에서는 가로수들이 모두 같은 간격이 되도록 가로수를 추가로 심는 사업을 추진하고 있다. KOI 시에서는 예산문제로 가능한 한 가장 적은 수의 나무를 심고 싶다.\n",
    "\n",
    "편의상 가로수의 위치는 기준점으로 부터 떨어져 있는 거리로 표현되며, 가로수의 위치는 모두 양의 정수이다.\n",
    "\n",
    "예를 들어, 가로수가 (1, 3, 7, 13)의 위치에 있다면 (5, 9, 11)의 위치에 가로수를 더 심으면 모든 가로수들의 간격이 같게 된다. 또한, 가로수가 (2, 6, 12, 18)에 있다면 (4, 8, 10, 14, 16)에 가로수를 더 심어야 한다.\n",
    "\n",
    "심어져 있는 가로수의 위치가 주어질 때, 모든 가로수가 같은 간격이 되도록 새로 심어야 하는 가로수의 최소수를 구하는 프로그램을 작성하라. 단, 추가되는 나무는 기존의 나무들 사이에만 심을 수 있다.\n",
    "\n",
    "입력\n",
    "첫째 줄에는 이미 심어져 있는 가로수의 수를 나타내는 하나의 정수 N이 주어진다(3 ≤ N ≤ 100,000). 둘째 줄부터 N개의 줄에는 각 줄마다 심어져 있는 가로수의 위치가 양의 정수로 주어지며, 가로수의 위치를 나타내는 정수는 1,000,000,000 이하이다. 가로수의 위치를 나타내는 정수는 모두 다르고, N개의 가로수는 기준점으로부터 떨어진 거리가 가까운 순서대로 주어진다.\n",
    "\n",
    "출력\n",
    "모든 가로수가 같은 간격이 되도록 새로 심어야 하는 가로수의 최소수를 첫 번째 줄에 출력한다.\n",
    "\n",
    "예제 입력 1 \n",
    "4\n",
    "1\n",
    "3\n",
    "7\n",
    "13\n",
    "예제 출력 1 \n",
    "3\n",
    "\n",
    "예제 입력 2 \n",
    "4\n",
    "2\n",
    "6\n",
    "12\n",
    "18\n",
    "예제 출력 2 \n",
    "5\n",
    "</pre>"
   ]
  },
  {
   "cell_type": "code",
   "execution_count": 15,
   "metadata": {},
   "outputs": [],
   "source": [
    "import sys\n",
    "from io import StringIO\n",
    "\n",
    "mock='''4\n",
    "2\n",
    "6\n",
    "12\n",
    "18'''\n",
    "\n",
    "sys.stdin = StringIO(mock)"
   ]
  },
  {
   "cell_type": "code",
   "execution_count": 14,
   "metadata": {},
   "outputs": [
    {
     "name": "stdout",
     "output_type": "stream",
     "text": [
      "[1, 3, 7, 13]\n",
      "[2, 4, 6]\n",
      "2\n"
     ]
    }
   ],
   "source": [
    "import sys\n",
    "sys.stdin = StringIO(mock)\n",
    "def gcd(m,n):\n",
    "    if m < n:\n",
    "        m, n = n, m\n",
    "    if n == 0:\n",
    "        return m\n",
    "    if m%n==0:\n",
    "        return n\n",
    "    else:\n",
    "        return gcd(n, m%n)\n",
    "data = [*map(int, sys.stdin.read().splitlines()[1:])]\n",
    "print(data)\n",
    "interval = set()\n",
    "for i in range(1, len(data)):\n",
    "    interval.add(data[i]-data[i-1])\n",
    "interval = list(interval)\n",
    "print(interval)\n",
    "GCD = interval[0]\n",
    "if len(interval) == 1:pass\n",
    "else:\n",
    "    for i in range(1, len(interval)):\n",
    "        GCD = gcd(GCD, interval[i])\n",
    "print(GCD)\n",
    "\n"
   ]
  },
  {
   "cell_type": "code",
   "execution_count": 15,
   "metadata": {},
   "outputs": [
    {
     "name": "stdout",
     "output_type": "stream",
     "text": [
      "[1, 3, 7, 13]\n",
      "[2, 4, 6]\n",
      "2\n",
      "3\n"
     ]
    }
   ],
   "source": [
    "print(data)\n",
    "print(interval)\n",
    "print(GCD)\n",
    "s = set(data)\n",
    "x = data[0]\n",
    "answer = 0\n",
    "while x <= data[-1]:\n",
    "    if x in data: pass\n",
    "    else:\n",
    "        answer += 1\n",
    "    x += GCD\n",
    "print(answer)"
   ]
  },
  {
   "cell_type": "code",
   "execution_count": 21,
   "metadata": {},
   "outputs": [],
   "source": [
    "import sys\n",
    "from io import StringIO\n",
    "\n",
    "mock='''4\n",
    "2\n",
    "6\n",
    "12\n",
    "18'''\n",
    "\n",
    "sys.stdin = StringIO(mock)"
   ]
  },
  {
   "cell_type": "code",
   "execution_count": 22,
   "metadata": {},
   "outputs": [
    {
     "name": "stdout",
     "output_type": "stream",
     "text": [
      "5\n"
     ]
    }
   ],
   "source": [
    "import sys\n",
    "from math import gcd\n",
    "from functools import reduce\n",
    "\n",
    "data = [*map(int, sys.stdin.read().splitlines()[1:])]\n",
    "\n",
    "# 가로수 간 간격\n",
    "interval = [data[i]-data[i-1] for i in range(1, len(data))]\n",
    "\n",
    "# 간격의 GCD 계산\n",
    "GCD = reduce(gcd, interval)\n",
    "\n",
    "print((data[-1]-data[0])//GCD - len(data)+1)"
   ]
  },
  {
   "cell_type": "code",
   "execution_count": null,
   "metadata": {},
   "outputs": [],
   "source": [
    "# 에라토스테네스의 체\n",
    "n = 10000 # 2부터 1000까지의 모든 수에 대하여 소수 판별\n",
    "array = [True for i in range(n + 1)] # 처음엔 모든 수가 소수(True)인 것으로 초기화(0과 1은 제와)\n",
    "\n",
    "# 에라토스테네스의 체 알고리즘\n",
    "for i in range(2, int(n**.5) + 1): # 2부터 n의 제곱근까지의 모든 수를 확인하며\n",
    "    if array[i] == True: # i가 소수인 경우(남은 수인 경우)\n",
    "        # i를 제외한 i의 모든 배수를 지우기\n",
    "        j = 2\n",
    "        while i * j <= n:\n",
    "            array[i * j] = False\n",
    "            j += 1\n",
    "\n",
    "# 모든 소수 출력\n",
    "for i in range(2, n + 1):\n",
    "\n",
    "    if array[i]:\n",
    "        print(i)\n"
   ]
  },
  {
   "cell_type": "markdown",
   "metadata": {},
   "source": []
  }
 ],
 "metadata": {
  "kernelspec": {
   "display_name": "phs",
   "language": "python",
   "name": "python3"
  },
  "language_info": {
   "codemirror_mode": {
    "name": "ipython",
    "version": 3
   },
   "file_extension": ".py",
   "mimetype": "text/x-python",
   "name": "python",
   "nbconvert_exporter": "python",
   "pygments_lexer": "ipython3",
   "version": "3.12.5"
  }
 },
 "nbformat": 4,
 "nbformat_minor": 2
}
