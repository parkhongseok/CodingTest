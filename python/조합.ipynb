{
 "cells": [
  {
   "cell_type": "markdown",
   "metadata": {},
   "source": [
    "<pre>\n",
    "베라의 패션\n",
    "\n",
    "문제\n",
    "베라는 상의 N 벌과 하의 N 벌이 있다. i 번째 상의와 i 번째 하의는 모두 색상 i를 가진다. N 개의 색상은 모두 서로 다르다.\n",
    "\n",
    "상의와 하의가 서로 다른 색상인 조합은 총 몇 가지일까?\n",
    "\n",
    "입력\n",
    "입력은 아래와 같이 주어진다.\n",
    "\n",
    "N\n",
    "출력\n",
    "상의와 하의가 서로 다른 색상인 조합의 가짓수를 출력한다.\n",
    "\n",
    "제한\n",
    "1 ≤ N ≤ 2017\n",
    "N은 정수이다.\n",
    "예제 입력 1 \n",
    "1\n",
    "예제 출력 1 \n",
    "0\n",
    "예제 입력 2 \n",
    "2\n",
    "예제 출력 2 \n",
    "2\n",
    "예제 입력 3 \n",
    "5\n",
    "예제 출력 3 \n",
    "20\n",
    "</pre>"
   ]
  },
  {
   "cell_type": "code",
   "execution_count": 7,
   "metadata": {},
   "outputs": [
    {
     "name": "stdout",
     "output_type": "stream",
     "text": [
      "2\n"
     ]
    }
   ],
   "source": [
    "N = int(input())\n",
    "print(N*(N-1))"
   ]
  },
  {
   "cell_type": "markdown",
   "metadata": {},
   "source": [
    "<pre>\n",
    "<h1>녹색거탑</h1>\n",
    "입력\n",
    "녹색거탑의 높이를 나타내는 정수 \n",
    "$N$이 주어진다. (\n",
    "$1 \\leq N \\leq 5$)\n",
    "\n",
    "출력\n",
    "녹색거탑의 정상에서 바닥으로 내려오는 경우의 수를 출력한다.\n",
    "\n",
    "예제 입력 1 \n",
    "1\n",
    "예제 출력 1 \n",
    "2\n",
    "\n",
    "예제 입력 2 \n",
    "2\n",
    "예제 출력 2 \n",
    "4\n",
    "</pre>"
   ]
  },
  {
   "cell_type": "code",
   "execution_count": 31,
   "metadata": {},
   "outputs": [
    {
     "name": "stdout",
     "output_type": "stream",
     "text": [
      "8\n"
     ]
    }
   ],
   "source": [
    "N = int(input())\n",
    "maxN = 6\n",
    "dp = [[0]*maxN for _ in range(maxN)]\n",
    "for i in range(maxN):\n",
    "  dp[0][i]=1\n",
    "  dp[i][0]=1\n",
    "\n",
    "for i in range(1, maxN):\n",
    "  for j in range(1, maxN): \n",
    "    dp[i][j] = dp[i-1][j] + dp[i][j-1]\n",
    "\n",
    "answer = 0\n",
    "for i in range(N+1):\n",
    "    answer += dp[i][N-i]\n",
    "\n",
    "print(answer)"
   ]
  },
  {
   "cell_type": "markdown",
   "metadata": {},
   "source": [
    "<pre>\n",
    "<h1>팩토리얼</h1>\n",
    "\n",
    "문제\n",
    "0보다 크거나 같은 정수 N이 주어진다. 이때, N!을 출력하는 프로그램을 작성하시오.\n",
    "\n",
    "입력\n",
    "첫째 줄에 정수 N(0 ≤ N ≤ 12)이 주어진다.\n",
    "\n",
    "출력\n",
    "첫째 줄에 N!을 출력한다.\n",
    "\n",
    "예제 입력 1 \n",
    "10\n",
    "예제 출력 1 \n",
    "3628800\n",
    "예제 입력 2 \n",
    "0\n",
    "예제 출력 2 \n",
    "1\n",
    "</pre>"
   ]
  },
  {
   "cell_type": "code",
   "execution_count": 44,
   "metadata": {},
   "outputs": [
    {
     "name": "stdout",
     "output_type": "stream",
     "text": [
      "3628800\n"
     ]
    }
   ],
   "source": [
    "N = int(input())\n",
    "maxN = 13\n",
    "dp = [1] * (maxN)\n",
    "for i in range(1, maxN):\n",
    "  dp[i] = dp[i-1]*i\n",
    "print(dp[N])"
   ]
  },
  {
   "cell_type": "markdown",
   "metadata": {},
   "source": [
    "<pre>\n",
    "<h1>\n",
    "이항 계수 1\n",
    "</h1>\n",
    "\n",
    "\n",
    "문제\n",
    "자연수 \n",
    "\\(N\\)과 정수 \n",
    "\\(K\\)가 주어졌을 때 이항 계수 \n",
    "\\(\\binom{N}{K}\\)를 구하는 프로그램을 작성하시오.\n",
    "\n",
    "입력\n",
    "첫째 줄에 \n",
    "\\(N\\)과 \n",
    "\\(K\\)가 주어진다. (1 ≤ \n",
    "\\(N\\) ≤ 10, 0 ≤ \n",
    "\\(K\\) ≤ \n",
    "\\(N\\))\n",
    "\n",
    "출력\n",
    " \n",
    "\\(\\binom{N}{K}\\)를 출력한다.\n",
    "\n",
    "예제 입력 1 \n",
    "5 2\n",
    "예제 출력 1 \n",
    "10\n",
    "\n",
    "</pre>"
   ]
  },
  {
   "cell_type": "code",
   "execution_count": 66,
   "metadata": {},
   "outputs": [
    {
     "name": "stdout",
     "output_type": "stream",
     "text": [
      "67863915\n"
     ]
    }
   ],
   "source": [
    "N, K = map(int, input().split())\n",
    "\n",
    "nPk = 1\n",
    "for i in range(N-K+1, N+1):\n",
    "  nPk *= i\n",
    "\n",
    "dp = [1] * (K+1)\n",
    "for i in range(1, K+1):\n",
    "  dp[i] = dp[i-1]*i\n",
    "\n",
    "print(nPk//dp[K])"
   ]
  },
  {
   "cell_type": "markdown",
   "metadata": {},
   "source": [
    "<pre>\n",
    "<h1>\n",
    "다리 놓기\n",
    "</h1>\n",
    "\n",
    "문제\n",
    "재원이는 한 도시의 시장이 되었다. 이 도시에는 도시를 동쪽과 서쪽으로 나누는 큰 일직선 모양의 강이 흐르고 있다. 하지만 재원이는 다리가 없어서 시민들이 강을 건너는데 큰 불편을 겪고 있음을 알고 다리를 짓기로 결심하였다. 강 주변에서 다리를 짓기에 적합한 곳을 사이트라고 한다. 재원이는 강 주변을 면밀히 조사해 본 결과 강의 서쪽에는 N개의 사이트가 있고 동쪽에는 M개의 사이트가 있다는 것을 알았다. (N ≤ M)\n",
    "\n",
    "재원이는 서쪽의 사이트와 동쪽의 사이트를 다리로 연결하려고 한다. (이때 한 사이트에는 최대 한 개의 다리만 연결될 수 있다.) 재원이는 다리를 최대한 많이 지으려고 하기 때문에 서쪽의 사이트 개수만큼 (N개) 다리를 지으려고 한다. 다리끼리는 서로 겹쳐질 수 없다고 할 때 다리를 지을 수 있는 경우의 수를 구하는 프로그램을 작성하라.\n",
    "\n",
    "\n",
    "\n",
    "입력\n",
    "입력의 첫 줄에는 테스트 케이스의 개수 T가 주어진다. 그 다음 줄부터 각각의 테스트케이스에 대해 강의 서쪽과 동쪽에 있는 사이트의 개수 정수 N, M (0 < N ≤ M < 30)이 주어진다.\n",
    "\n",
    "출력\n",
    "각 테스트 케이스에 대해 주어진 조건하에 다리를 지을 수 있는 경우의 수를 출력한다.\n",
    "\n",
    "예제 입력 1 \n",
    "3\n",
    "2 2\n",
    "1 5\n",
    "13 29\n",
    "예제 출력 1 \n",
    "\n",
    "1\n",
    "5\n",
    "67863915\n",
    "</pre>"
   ]
  },
  {
   "cell_type": "code",
   "execution_count": 69,
   "metadata": {},
   "outputs": [],
   "source": [
    "from io import StringIO\n",
    "import sys\n",
    "\n",
    "data = \"\"\"4\n",
    "2 2\n",
    "1 5\n",
    "3 7\n",
    "13 29\"\"\"\n",
    "\n"
   ]
  },
  {
   "cell_type": "code",
   "execution_count": 72,
   "metadata": {},
   "outputs": [
    {
     "name": "stdout",
     "output_type": "stream",
     "text": [
      "1 1\n",
      "1\n",
      "5 1\n",
      "5\n",
      "210 6\n",
      "35\n",
      "422590010274432000 6227020800\n",
      "67863915\n"
     ]
    }
   ],
   "source": [
    "sys.stdin = StringIO(data)\n",
    "\n",
    "import sys\n",
    "\n",
    "ipt = sys.stdin.readline\n",
    "T = int(ipt())\n",
    "\n",
    "def combination(N, K):\n",
    "  nPk = 1\n",
    "  for i in range(N-K+1, N+1):\n",
    "    nPk *= i\n",
    "\n",
    "  dp = [1] * (K+1)\n",
    "  for i in range(1, K+1):\n",
    "    dp[i] = dp[i-1]*i\n",
    "  print(nPk, dp[K])\n",
    "  print(nPk//dp[K])\n",
    "\n",
    "for _ in range(T):\n",
    "  N, M = map(int, ipt().split())\n",
    "  N = M-N if M-N < N else N\n",
    "  combination(M, N)"
   ]
  }
 ],
 "metadata": {
  "kernelspec": {
   "display_name": "base",
   "language": "python",
   "name": "python3"
  },
  "language_info": {
   "codemirror_mode": {
    "name": "ipython",
    "version": 3
   },
   "file_extension": ".py",
   "mimetype": "text/x-python",
   "name": "python",
   "nbconvert_exporter": "python",
   "pygments_lexer": "ipython3",
   "version": "3.12.2"
  }
 },
 "nbformat": 4,
 "nbformat_minor": 2
}
