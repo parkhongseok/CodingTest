{
 "cells": [
  {
   "cell_type": "code",
   "execution_count": 2,
   "id": "d4a8504b",
   "metadata": {},
   "outputs": [],
   "source": [
    "import sys\n",
    "from io import StringIO\n",
    "\n",
    "test = \"\"\"ACAYKP\n",
    "CAPCAK\n",
    "\"\"\""
   ]
  },
  {
   "cell_type": "code",
   "execution_count": 37,
   "id": "ec2b4e0e",
   "metadata": {},
   "outputs": [
    {
     "name": "stdout",
     "output_type": "stream",
     "text": [
      "4\n"
     ]
    }
   ],
   "source": [
    "sys.stdin = StringIO(test)\n",
    "\n",
    "import sys\n",
    "\n",
    "ipt = sys.stdin.readline\n",
    "\n",
    "# given\n",
    "X = ipt().strip()\n",
    "Y = ipt().strip()\n",
    "\n",
    "# when\n",
    "LCS = [[0] * (len(Y)+1) for _ in range(len(X)+1)]\n",
    "\n",
    "for i in range(1, len(X) + 1):\n",
    "  for j in range(1, len(Y) + 1):\n",
    "      if (X[i-1] == Y[j-1]):\n",
    "        LCS[i][j] = LCS[i-1][j-1] + 1 \n",
    "      else:\n",
    "        LCS[i][j] = max(LCS[i-1][j], LCS[i][j-1])\n",
    "\n",
    "# then\n",
    "print(LCS[-1][-1])"
   ]
  }
 ],
 "metadata": {
  "kernelspec": {
   "display_name": "phs",
   "language": "python",
   "name": "python3"
  },
  "language_info": {
   "codemirror_mode": {
    "name": "ipython",
    "version": 3
   },
   "file_extension": ".py",
   "mimetype": "text/x-python",
   "name": "python",
   "nbconvert_exporter": "python",
   "pygments_lexer": "ipython3",
   "version": "3.12.5"
  }
 },
 "nbformat": 4,
 "nbformat_minor": 5
}
