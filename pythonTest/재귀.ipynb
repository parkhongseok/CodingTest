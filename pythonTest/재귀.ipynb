{
 "cells": [
  {
   "cell_type": "markdown",
   "metadata": {},
   "source": [
    "<pre>\n",
    "<h2>\n",
    "팩토리얼 2\n",
    "</h2>\n",
    "\n",
    "문제\n",
    "0보다 크거나 같은 정수 N이 주어진다. 이때, N!을 출력하는 프로그램을 작성하시오.\n",
    "\n",
    "입력\n",
    "첫째 줄에 정수 N(0 ≤ N ≤ 20)이 주어진다.\n",
    "\n",
    "출력\n",
    "첫째 줄에 N!을 출력한다.\n",
    "\n",
    "예제 입력 1 \n",
    "10\n",
    "예제 출력 1 \n",
    "3628800\n",
    "예제 입력 2 \n",
    "0\n",
    "예제 출력 2 \n",
    "1\n",
    "</pre>"
   ]
  },
  {
   "cell_type": "code",
   "execution_count": 11,
   "metadata": {},
   "outputs": [
    {
     "name": "stdout",
     "output_type": "stream",
     "text": [
      "1\n"
     ]
    }
   ],
   "source": [
    "N = int(input())\n",
    "def factorial(N):\n",
    "  if N == 0:\n",
    "    return 1\n",
    "  return N*factorial(N-1)\n",
    "print(factorial(N))"
   ]
  },
  {
   "cell_type": "markdown",
   "metadata": {},
   "source": [
    "<pre>\n",
    "<h1>\n",
    "피보나치 수 5\n",
    "</h1>\n",
    "문제\n",
    "피보나치 수는 0과 1로 시작한다. 0번째 피보나치 수는 0이고, 1번째 피보나치 수는 1이다. 그 다음 2번째 부터는 바로 앞 두 피보나치 수의 합이 된다.\n",
    "\n",
    "이를 식으로 써보면 Fn = Fn-1 + Fn-2 (n ≥ 2)가 된다.\n",
    "\n",
    "n=17일때 까지 피보나치 수를 써보면 다음과 같다.\n",
    "\n",
    "0, 1, 1, 2, 3, 5, 8, 13, 21, 34, 55, 89, 144, 233, 377, 610, 987, 1597\n",
    "\n",
    "n이 주어졌을 때, n번째 피보나치 수를 구하는 프로그램을 작성하시오.\n",
    "\n",
    "입력\n",
    "첫째 줄에 n이 주어진다. n은 20보다 작거나 같은 자연수 또는 0이다.\n",
    "\n",
    "출력\n",
    "첫째 줄에 n번째 피보나치 수를 출력한다.\n",
    "\n",
    "예제 입력 1 \n",
    "10\n",
    "예제 출력 1 \n",
    "55\n",
    "</pre>"
   ]
  },
  {
   "cell_type": "code",
   "execution_count": null,
   "metadata": {},
   "outputs": [
    {
     "name": "stdout",
     "output_type": "stream",
     "text": [
      "1597\n"
     ]
    }
   ],
   "source": [
    "N = int(input())\n",
    "\n",
    "def fibonacci(n) :\n",
    "  if n == 1 or n == 2 : \n",
    "    return 1\n",
    "  if n == 0 : \n",
    "    return 0\n",
    "  return fibonacci(n-1) + fibonacci(n-2) \n",
    "  \n",
    "print(fibonacci(N))"
   ]
  },
  {
   "cell_type": "markdown",
   "metadata": {},
   "source": [
    "<pre>\n",
    "<h1>\n",
    "재귀의 귀재\n",
    "</h1>\n",
    "\n",
    "문제\n",
    "정휘는 후배들이 재귀 함수를 잘 다루는 재귀의 귀재인지 알아보기 위해 재귀 함수와 관련된 문제를 출제하기로 했다.\n",
    "\n",
    "팰린드롬이란, 앞에서부터 읽었을 때와 뒤에서부터 읽었을 때가 같은 문자열을 말한다. 팰린드롬의 예시로 AAA, ABBA, ABABA 등이 있고, 팰린드롬이 아닌 문자열의 예시로 ABCA, PALINDROME 등이 있다.\n",
    "\n",
    "어떤 문자열이 팰린드롬인지 판별하는 문제는 재귀 함수를 이용해 쉽게 해결할 수 있다. 아래 코드의 isPalindrome 함수는 주어진 문자열이 팰린드롬이면 1, 팰린드롬이 아니면 0을 반환하는 함수다.\n",
    "\n",
    "#include <stdio.h>\n",
    "#include <string.h>\n",
    "\n",
    "int recursion(const char *s, int l, int r){\n",
    "    if(l >= r) return 1;\n",
    "    else if(s[l] != s[r]) return 0;\n",
    "    else return recursion(s, l+1, r-1);\n",
    "}\n",
    "\n",
    "int isPalindrome(const char *s){\n",
    "    return recursion(s, 0, strlen(s)-1);\n",
    "}\n",
    "\n",
    "int main(){\n",
    "    printf(\"ABBA: %d\\n\", isPalindrome(\"ABBA\")); // 1\n",
    "    printf(\"ABC: %d\\n\", isPalindrome(\"ABC\"));   // 0\n",
    "}\n",
    "정휘는 위에 작성된 isPalindrome 함수를 이용하여 어떤 문자열이 팰린드롬인지 여부를 판단하려고 한다.\n",
    "\n",
    "구체적으로는, 문자열 \n",
    "$S$를 isPalindrome 함수의 인자로 전달하여 팰린드롬 여부를 반환값으로 알아낼 것이다. 더불어 판별하는 과정에서 recursion 함수를 몇 번 호출하는지 셀 것이다.\n",
    "\n",
    "정휘를 따라 여러분도 함수의 반환값과 recursion 함수의 호출 횟수를 구해보자.\n",
    "\n",
    "입력\n",
    "첫째 줄에 테스트케이스의 개수 \n",
    "$T$가 주어진다. (\n",
    "$1 \\leq T \\leq 1\\,000$)\n",
    "\n",
    "둘째 줄부터 \n",
    "$T$개의 줄에 알파벳 대문자로 구성된 문자열 \n",
    "$S$가 주어진다. (\n",
    "$1 \\leq \\vert S\\vert \\leq 1\\,000$)\n",
    "\n",
    "출력\n",
    "각 테스트케이스마다, isPalindrome 함수의 반환값과 recursion 함수의 호출 횟수를 한 줄에 공백으로 구분하여 출력한다.\n",
    "\n",
    "예제 입력 1 \n",
    "5\n",
    "AAA\n",
    "ABBA\n",
    "ABABA\n",
    "ABCA\n",
    "PALINDROME\n",
    "예제 출력 1 \n",
    "1 2\n",
    "1 3\n",
    "1 3\n",
    "0 2\n",
    "0 1\n",
    "</pre>"
   ]
  },
  {
   "cell_type": "code",
   "execution_count": 24,
   "metadata": {},
   "outputs": [],
   "source": [
    "import sys \n",
    "from io import StringIO\n",
    "test = \"\"\"5\n",
    "AAA\n",
    "ABBA\n",
    "ABABA\n",
    "ABCA\n",
    "PALINDROME\n",
    "\"\"\""
   ]
  },
  {
   "cell_type": "code",
   "execution_count": 29,
   "metadata": {},
   "outputs": [
    {
     "name": "stdout",
     "output_type": "stream",
     "text": [
      "1 2\n",
      "1 3\n",
      "1 3\n",
      "0 2\n",
      "0 1\n"
     ]
    }
   ],
   "source": [
    "sys.stdin = StringIO(test)\n",
    "\n",
    "import sys\n",
    "\n",
    "ipt = sys.stdin.readline\n",
    "T = int(ipt())\n",
    "\n",
    "class RecursiveCount:\n",
    "    def __init__(self, str):\n",
    "        self.str = str\n",
    "        self.N = 0\n",
    "        self.isP = self.isPalindrome(str)\n",
    "\n",
    "    def recursion(self, s, l, r):\n",
    "        self.N += 1\n",
    "        if l >= r: return 1\n",
    "        elif s[l] != s[r]: return 0\n",
    "        else: return self.recursion(s, l+1, r-1)\n",
    "\n",
    "    def isPalindrome(self, s):\n",
    "        return self.recursion(s, 0, len(s)-1)\n",
    "\n",
    "for _ in range(T):\n",
    "    s = ipt().strip()\n",
    "    X = RecursiveCount(s)\n",
    "    print(X.isP, X.N)"
   ]
  }
 ],
 "metadata": {
  "kernelspec": {
   "display_name": "phs",
   "language": "python",
   "name": "python3"
  },
  "language_info": {
   "codemirror_mode": {
    "name": "ipython",
    "version": 3
   },
   "file_extension": ".py",
   "mimetype": "text/x-python",
   "name": "python",
   "nbconvert_exporter": "python",
   "pygments_lexer": "ipython3",
   "version": "3.12.5"
  }
 },
 "nbformat": 4,
 "nbformat_minor": 2
}
