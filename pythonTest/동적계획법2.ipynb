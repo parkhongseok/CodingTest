{
 "cells": [
  {
   "cell_type": "markdown",
   "metadata": {},
   "source": [
    "<pre>\n",
    "<h1>\n",
    "알고리즘 수업 - 피보나치 수 1\n",
    "</h1>\n",
    "\n",
    "문제\n",
    "오늘도 서준이는 동적 프로그래밍 수업 조교를 하고 있다. 아빠가 수업한 내용을 학생들이 잘 이해했는지 문제를 통해서 확인해보자.\n",
    "오늘은 n의 피보나치 수를 재귀호출과 동적 프로그래밍으로 구하는 알고리즘을 배웠다. 재귀호출에 비해 동적 프로그래밍이 얼마나 빠른지 확인해 보자. 아래 의사 코드를 이용하여 n의 피보나치 수를 구할 경우 코드1 코드2 실행 횟수를 출력하자.\n",
    "\n",
    "피보나치 수 재귀호출 의사 코드는 다음과 같다.\n",
    "\n",
    "입력\n",
    "첫째 줄에 n(5 ≤ n ≤ 40)이 주어진다.\n",
    "\n",
    "출력\n",
    "코드1 코드2 실행 횟수를 한 줄에 출력한다.\n",
    "\n",
    "예제 입력 1 \n",
    "5\n",
    "예제 출력 1 \n",
    "5 3\n",
    "예제 입력 2 \n",
    "30\n",
    "예제 출력 2 \n",
    "832040 28\n",
    "</pre>\n",
    "\n"
   ]
  },
  {
   "cell_type": "code",
   "execution_count": 33,
   "metadata": {},
   "outputs": [
    {
     "name": "stdout",
     "output_type": "stream",
     "text": [
      "832040 28\n"
     ]
    }
   ],
   "source": [
    "class Fibbo:\n",
    "  def __init__(self, n):\n",
    "    self.dpN = 0\n",
    "    self.recursiveN = self.getDp(n)\n",
    "\n",
    "  def getDp(self, n):\n",
    "    dp = [0 for i in range(n+1)]\n",
    "    dp[1]=dp[2]=1\n",
    "    for i in range(3, n+1):\n",
    "      self.dpN += 1\n",
    "      dp[i] = dp[i-1] + dp[i-2]\n",
    "    return dp[n]\n",
    "\n",
    "N = int(input())\n",
    "F = Fibbo(N)\n",
    "\n",
    "print(F.recursiveN, F.dpN)"
   ]
  },
  {
   "cell_type": "code",
   "execution_count": null,
   "metadata": {},
   "outputs": [],
   "source": []
  }
 ],
 "metadata": {
  "kernelspec": {
   "display_name": "phs",
   "language": "python",
   "name": "python3"
  },
  "language_info": {
   "codemirror_mode": {
    "name": "ipython",
    "version": 3
   },
   "file_extension": ".py",
   "mimetype": "text/x-python",
   "name": "python",
   "nbconvert_exporter": "python",
   "pygments_lexer": "ipython3",
   "version": "3.12.5"
  }
 },
 "nbformat": 4,
 "nbformat_minor": 2
}
