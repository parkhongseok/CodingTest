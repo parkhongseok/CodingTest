{
 "cells": [
  {
   "cell_type": "markdown",
   "metadata": {},
   "source": [
    "<pre>\n",
    "<h1>\n",
    "알고리즘 수업 - 피보나치 수 1\n",
    "</h1>\n",
    "\n",
    "문제\n",
    "오늘도 서준이는 동적 프로그래밍 수업 조교를 하고 있다. 아빠가 수업한 내용을 학생들이 잘 이해했는지 문제를 통해서 확인해보자.\n",
    "오늘은 n의 피보나치 수를 재귀호출과 동적 프로그래밍으로 구하는 알고리즘을 배웠다. 재귀호출에 비해 동적 프로그래밍이 얼마나 빠른지 확인해 보자. 아래 의사 코드를 이용하여 n의 피보나치 수를 구할 경우 코드1 코드2 실행 횟수를 출력하자.\n",
    "\n",
    "피보나치 수 재귀호출 의사 코드는 다음과 같다.\n",
    "\n",
    "입력\n",
    "첫째 줄에 n(5 ≤ n ≤ 40)이 주어진다.\n",
    "\n",
    "출력\n",
    "코드1 코드2 실행 횟수를 한 줄에 출력한다.\n",
    "\n",
    "예제 입력 1 \n",
    "5\n",
    "예제 출력 1 \n",
    "5 3\n",
    "예제 입력 2 \n",
    "30\n",
    "예제 출력 2 \n",
    "832040 28\n",
    "</pre>\n",
    "\n"
   ]
  },
  {
   "cell_type": "code",
   "execution_count": 33,
   "metadata": {},
   "outputs": [
    {
     "name": "stdout",
     "output_type": "stream",
     "text": [
      "832040 28\n"
     ]
    }
   ],
   "source": [
    "class Fibbo:\n",
    "  def __init__(self, n):\n",
    "    self.dpN = 0\n",
    "    self.recursiveN = self.getDp(n)\n",
    "\n",
    "  def getDp(self, n):\n",
    "    dp = [0 for i in range(n+1)]\n",
    "    dp[1]=dp[2]=1\n",
    "    for i in range(3, n+1):\n",
    "      self.dpN += 1\n",
    "      dp[i] = dp[i-1] + dp[i-2]\n",
    "    return dp[n]\n",
    "\n",
    "N = int(input())\n",
    "F = Fibbo(N)\n",
    "\n",
    "print(F.recursiveN, F.dpN)"
   ]
  },
  {
   "cell_type": "markdown",
   "metadata": {},
   "source": [
    "<pre>\n",
    "<h1>\n",
    "신나는 함수 실행\n",
    "</h1>\n",
    "문제\n",
    "재귀 호출만 생각하면 신이 난다! 아닌가요?\n",
    "\n",
    "다음과 같은 재귀함수 w(a, b, c)가 있다.\n",
    "\n",
    "if a <= 0 or b <= 0 or c <= 0, then w(a, b, c) returns:\n",
    "    1\n",
    "\n",
    "if a > 20 or b > 20 or c > 20, then w(a, b, c) returns:\n",
    "    w(20, 20, 20)\n",
    "\n",
    "if a < b and b < c, then w(a, b, c) returns:\n",
    "    w(a, b, c-1) + w(a, b-1, c-1) - w(a, b-1, c)\n",
    "\n",
    "otherwise it returns:\n",
    "    w(a-1, b, c) + w(a-1, b-1, c) + w(a-1, b, c-1) - w(a-1, b-1, c-1)\n",
    "위의 함수를 구현하는 것은 매우 쉽다. 하지만, 그대로 구현하면 값을 구하는데 매우 오랜 시간이 걸린다. (예를 들면, a=15, b=15, c=15)\n",
    "\n",
    "a, b, c가 주어졌을 때, w(a, b, c)를 출력하는 프로그램을 작성하시오.\n",
    "\n",
    "입력\n",
    "입력은 세 정수 a, b, c로 이루어져 있으며, 한 줄에 하나씩 주어진다. 입력의 마지막은 -1 -1 -1로 나타내며, 세 정수가 모두 -1인 경우는 입력의 마지막을 제외하면 없다.\n",
    "\n",
    "출력\n",
    "입력으로 주어진 각각의 a, b, c에 대해서, w(a, b, c)를 출력한다.\n",
    "\n",
    "제한\n",
    "-50 ≤ a, b, c ≤ 50\n",
    "\n",
    "예제 입력 1 \n",
    "1 1 1\n",
    "2 2 2\n",
    "10 4 6\n",
    "50 50 50\n",
    "-1 7 18\n",
    "-1 -1 -1\n",
    "예제 출력 1 \n",
    "w(1, 1, 1) = 2\n",
    "w(2, 2, 2) = 4\n",
    "w(10, 4, 6) = 523\n",
    "w(50, 50, 50) = 1048576\n",
    "w(-1, 7, 18) = 1\n",
    "</pre>"
   ]
  },
  {
   "cell_type": "code",
   "execution_count": 2,
   "metadata": {},
   "outputs": [],
   "source": [
    "import sys\n",
    "from io import StringIO\n",
    "\n",
    "test = \"\"\"1 1 1\n",
    "2 2 2\n",
    "10 4 6\n",
    "50 50 50\n",
    "-1 7 18\n",
    "-1 -1 -1\"\"\""
   ]
  },
  {
   "cell_type": "code",
   "execution_count": null,
   "metadata": {},
   "outputs": [
    {
     "name": "stdout",
     "output_type": "stream",
     "text": [
      "w(1, 1, 1) = 2\n",
      "w(2, 2, 2) = 4\n",
      "w(10, 4, 6) = 523\n",
      "w(50, 50, 50) = 1048576\n",
      "w(-1, 7, 18) = 1\n"
     ]
    }
   ],
   "source": [
    "sys.stdin = StringIO(test)\n",
    "\n",
    "import sys\n",
    "\n",
    "size = 21\n",
    "dp = [[[0 for _ in range(size)] for _ in range(size)] for _ in range(size)]\n",
    "\n",
    "# init\n",
    "# for i in range(size):\n",
    "#   for j in range(size):\n",
    "#       dp[0][i][j] = 1\n",
    "#       dp[i][0][j] = 1\n",
    "#       dp[i][j][0] = 1\n",
    "\n",
    "# for i in range(1, size):\n",
    "#   for j in range(1, size):\n",
    "#     for k in range(1, size):\n",
    "#       if i < j < k:\n",
    "#         dp[i][j][k] = dp[i][j][k-1] + dp[i][j-1][k-1] - dp[i][j-1][k]\n",
    "#       else:\n",
    "#         dp[i][j][k] = dp[i-1][j][k] + dp[i-1][j-1][k] + dp[i-1][j][k-1] - dp[i-1][j-1][k-1]\n",
    "\n",
    "# init\n",
    "for i in range(size):\n",
    "  for j in range(size):\n",
    "    for k in range(size):\n",
    "      if i == 0 or j == 0 or k == 0:\n",
    "        dp[i][j][k] = 1\n",
    "      elif i < j < k:\n",
    "        dp[i][j][k] = dp[i][j][k-1] + dp[i][j-1][k-1] - dp[i][j-1][k]\n",
    "      else:\n",
    "        dp[i][j][k] = dp[i-1][j][k] + dp[i-1][j-1][k] + dp[i-1][j][k-1] - dp[i-1][j-1][k-1]\n",
    "\n",
    "def w(a, b, c):\n",
    "  if a <= 0 or b <= 0 or c <= 0:\n",
    "      return 1\n",
    "  if a > 20 or b > 20 or c > 20:\n",
    "      return dp[20][20][20]\n",
    "  return dp[a][b][c]\n",
    "\n",
    "ipt = sys.stdin.readline\n",
    "\n",
    "while (True):\n",
    "  a, b, c = map(int, ipt().split())\n",
    "  if a == b == c == -1:\n",
    "    break\n",
    "  print(f\"w({a}, {b}, {c}) = {w(a, b, c)}\")"
   ]
  }
 ],
 "metadata": {
  "kernelspec": {
   "display_name": "phs",
   "language": "python",
   "name": "python3"
  },
  "language_info": {
   "codemirror_mode": {
    "name": "ipython",
    "version": 3
   },
   "file_extension": ".py",
   "mimetype": "text/x-python",
   "name": "python",
   "nbconvert_exporter": "python",
   "pygments_lexer": "ipython3",
   "version": "3.12.5"
  }
 },
 "nbformat": 4,
 "nbformat_minor": 2
}
